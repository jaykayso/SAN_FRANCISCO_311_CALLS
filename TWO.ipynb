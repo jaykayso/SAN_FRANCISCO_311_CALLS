{
 "cells": [
  {
   "cell_type": "markdown",
   "metadata": {},
   "source": [
    "# 311 San Francisco Call Analysis"
   ]
  },
  {
   "cell_type": "markdown",
   "metadata": {},
   "source": [
    "### Importation of Relevant Packages"
   ]
  },
  {
   "cell_type": "code",
   "execution_count": 1,
   "metadata": {},
   "outputs": [],
   "source": [
    "from datetime import datetime\n",
    "from sodapy import Socrata\n",
    "import pandas as pd\n",
    "import numpy as np\n",
    "import requests"
   ]
  },
  {
   "cell_type": "code",
   "execution_count": 2,
   "metadata": {},
   "outputs": [],
   "source": [
    "from sklearn.naive_bayes import MultinomialNB\n",
    "from sklearn.feature_extraction.text import CountVectorizer\n",
    "from collections import Counter\n",
    "from sklearn.model_selection import train_test_split\n",
    "from sklearn.feature_extraction.text import TfidfTransformer\n",
    "from sklearn.svm import SVC\n",
    "from nltk import word_tokenize\n",
    "from collections import defaultdict"
   ]
  },
  {
   "cell_type": "code",
   "execution_count": 11,
   "metadata": {
    "scrolled": true
   },
   "outputs": [
    {
     "name": "stdout",
     "output_type": "stream",
     "text": [
      "Collecting lib\n",
      "  Downloading lib-3.0.0.tar.gz (2.6 kB)\n",
      "Building wheels for collected packages: lib\n",
      "  Building wheel for lib (setup.py) ... \u001b[?25ldone\n",
      "\u001b[?25h  Created wheel for lib: filename=lib-3.0.0-py3-none-any.whl size=3212 sha256=2be8b2d28fa0fe837d78c0bb3aef86e96c92356596d412049f453484e35def9c\n",
      "  Stored in directory: /Users/jaklynsoler/Library/Caches/pip/wheels/a8/9f/c8/a1329ec3dd3d6214178425ade3a4a701b0ea521cb54e95388f\n",
      "Successfully built lib\n",
      "Installing collected packages: lib\n",
      "Successfully installed lib-3.0.0\n"
     ]
    }
   ],
   "source": [
    "!pip install lib"
   ]
  },
  {
   "cell_type": "code",
   "execution_count": 3,
   "metadata": {},
   "outputs": [],
   "source": [
    "import nltk\n",
    "from nltk.corpus import stopwords\n",
    "import string\n",
    "from nltk import word_tokenize, FreqDist\n",
    "from sklearn.feature_extraction.text import TfidfVectorizer\n",
    "from sklearn.metrics import accuracy_score\n",
    "from sklearn.datasets import fetch_20newsgroups\n",
    "from sklearn.ensemble import RandomForestClassifier\n",
    "from sklearn.naive_bayes import MultinomialNB\n",
    "import pandas as pd\n",
    "import numpy as np\n",
    "np.random.seed(0)\n",
    "from nltk import word_tokenize\n",
    "from collections import defaultdict\n",
    "from keras.models import Sequential\n",
    "from keras.layers import Dense, Conv1D, Flatten\n",
    "from keras.layers.embeddings import Embedding\n",
    "from keras.preprocessing import sequence\n",
    "from keras.utils import to_categorical\n",
    "import pandas as pd\n",
    "from collections import Counter\n",
    "from sklearn.model_selection import train_test_split"
   ]
  },
  {
   "cell_type": "markdown",
   "metadata": {},
   "source": [
    "### Importing the Pickled Dataframe"
   ]
  },
  {
   "cell_type": "code",
   "execution_count": 4,
   "metadata": {},
   "outputs": [],
   "source": [
    "df = pd.read_pickle(\"data/before_df.pkl\")"
   ]
  },
  {
   "cell_type": "markdown",
   "metadata": {},
   "source": [
    "### Observing the Dataframe"
   ]
  },
  {
   "cell_type": "code",
   "execution_count": 5,
   "metadata": {
    "scrolled": true
   },
   "outputs": [
    {
     "data": {
      "text/html": [
       "<div>\n",
       "<style scoped>\n",
       "    .dataframe tbody tr th:only-of-type {\n",
       "        vertical-align: middle;\n",
       "    }\n",
       "\n",
       "    .dataframe tbody tr th {\n",
       "        vertical-align: top;\n",
       "    }\n",
       "\n",
       "    .dataframe thead th {\n",
       "        text-align: right;\n",
       "    }\n",
       "</style>\n",
       "<table border=\"1\" class=\"dataframe\">\n",
       "  <thead>\n",
       "    <tr style=\"text-align: right;\">\n",
       "      <th></th>\n",
       "      <th>service_request_id</th>\n",
       "      <th>Date</th>\n",
       "      <th>agency_responsible</th>\n",
       "      <th>service_name</th>\n",
       "      <th>service_subtype</th>\n",
       "      <th>service_details</th>\n",
       "      <th>address</th>\n",
       "      <th>supervisor_district</th>\n",
       "      <th>neighborhoods_sffind_boundaries</th>\n",
       "      <th>police_district</th>\n",
       "    </tr>\n",
       "  </thead>\n",
       "  <tbody>\n",
       "    <tr>\n",
       "      <th>0</th>\n",
       "      <td>13333616</td>\n",
       "      <td>2021-01-06</td>\n",
       "      <td>DPH - Other - G</td>\n",
       "      <td>General Request - DPH</td>\n",
       "      <td>request_for_service</td>\n",
       "      <td>dph_other - request_for_service</td>\n",
       "      <td>Intersection of TURK ST and JONES ST</td>\n",
       "      <td>6</td>\n",
       "      <td>Tenderloin</td>\n",
       "      <td>TENDERLOIN</td>\n",
       "    </tr>\n",
       "    <tr>\n",
       "      <th>1</th>\n",
       "      <td>13333606</td>\n",
       "      <td>2021-01-06</td>\n",
       "      <td>Mayors Office of Neighborhood Services - G</td>\n",
       "      <td>General Request - MONS</td>\n",
       "      <td>complaint</td>\n",
       "      <td>mons - complaint</td>\n",
       "      <td>Not associated with a specific address</td>\n",
       "      <td>NaN</td>\n",
       "      <td>NaN</td>\n",
       "      <td>NaN</td>\n",
       "    </tr>\n",
       "    <tr>\n",
       "      <th>2</th>\n",
       "      <td>13333604</td>\n",
       "      <td>2021-01-06</td>\n",
       "      <td>Parking Enforcement Dispatch Queue</td>\n",
       "      <td>Parking Enforcement</td>\n",
       "      <td>Parking_on_Sidewalk</td>\n",
       "      <td>Bronze - Lexus - N/a</td>\n",
       "      <td>176 LEE AVE, SAN FRANCISCO, CA, 94112</td>\n",
       "      <td>11</td>\n",
       "      <td>Ingleside</td>\n",
       "      <td>TARAVAL</td>\n",
       "    </tr>\n",
       "    <tr>\n",
       "      <th>3</th>\n",
       "      <td>13333603</td>\n",
       "      <td>2021-01-06</td>\n",
       "      <td>Parking Enforcement Dispatch Queue</td>\n",
       "      <td>Parking Enforcement</td>\n",
       "      <td>Parking_on_Sidewalk</td>\n",
       "      <td>Parking Enforcement</td>\n",
       "      <td>196 LEE AVE, SAN FRANCISCO, CA, 94112</td>\n",
       "      <td>11</td>\n",
       "      <td>Ingleside</td>\n",
       "      <td>TARAVAL</td>\n",
       "    </tr>\n",
       "    <tr>\n",
       "      <th>4</th>\n",
       "      <td>13333602</td>\n",
       "      <td>2021-01-06</td>\n",
       "      <td>Parking Enforcement Dispatch Queue</td>\n",
       "      <td>Parking Enforcement</td>\n",
       "      <td>Parking_on_Sidewalk</td>\n",
       "      <td>Parking Enforcement</td>\n",
       "      <td>229 LEE AVE, SAN FRANCISCO, CA, 94112</td>\n",
       "      <td>7</td>\n",
       "      <td>Ingleside</td>\n",
       "      <td>TARAVAL</td>\n",
       "    </tr>\n",
       "  </tbody>\n",
       "</table>\n",
       "</div>"
      ],
      "text/plain": [
       "  service_request_id       Date                          agency_responsible  \\\n",
       "0           13333616 2021-01-06                             DPH - Other - G   \n",
       "1           13333606 2021-01-06  Mayors Office of Neighborhood Services - G   \n",
       "2           13333604 2021-01-06          Parking Enforcement Dispatch Queue   \n",
       "3           13333603 2021-01-06          Parking Enforcement Dispatch Queue   \n",
       "4           13333602 2021-01-06          Parking Enforcement Dispatch Queue   \n",
       "\n",
       "             service_name      service_subtype  \\\n",
       "0   General Request - DPH  request_for_service   \n",
       "1  General Request - MONS            complaint   \n",
       "2     Parking Enforcement  Parking_on_Sidewalk   \n",
       "3     Parking Enforcement  Parking_on_Sidewalk   \n",
       "4     Parking Enforcement  Parking_on_Sidewalk   \n",
       "\n",
       "                   service_details                                 address  \\\n",
       "0  dph_other - request_for_service    Intersection of TURK ST and JONES ST   \n",
       "1                 mons - complaint  Not associated with a specific address   \n",
       "2             Bronze - Lexus - N/a   176 LEE AVE, SAN FRANCISCO, CA, 94112   \n",
       "3              Parking Enforcement   196 LEE AVE, SAN FRANCISCO, CA, 94112   \n",
       "4              Parking Enforcement   229 LEE AVE, SAN FRANCISCO, CA, 94112   \n",
       "\n",
       "  supervisor_district neighborhoods_sffind_boundaries police_district  \n",
       "0                   6                      Tenderloin      TENDERLOIN  \n",
       "1                 NaN                             NaN             NaN  \n",
       "2                  11                       Ingleside         TARAVAL  \n",
       "3                  11                       Ingleside         TARAVAL  \n",
       "4                   7                       Ingleside         TARAVAL  "
      ]
     },
     "execution_count": 5,
     "metadata": {},
     "output_type": "execute_result"
    }
   ],
   "source": [
    "df.head()"
   ]
  },
  {
   "cell_type": "markdown",
   "metadata": {},
   "source": [
    "### Checking Dataframe Size"
   ]
  },
  {
   "cell_type": "code",
   "execution_count": 6,
   "metadata": {},
   "outputs": [
    {
     "data": {
      "text/plain": [
       "24193480"
      ]
     },
     "execution_count": 6,
     "metadata": {},
     "output_type": "execute_result"
    }
   ],
   "source": [
    "df.size"
   ]
  },
  {
   "cell_type": "markdown",
   "metadata": {},
   "source": [
    "### Checking for NaN Values"
   ]
  },
  {
   "cell_type": "code",
   "execution_count": 7,
   "metadata": {},
   "outputs": [
    {
     "data": {
      "text/plain": [
       "service_request_id                     0\n",
       "Date                                   0\n",
       "agency_responsible                     0\n",
       "service_name                           0\n",
       "service_subtype                        0\n",
       "service_details                     1779\n",
       "address                                1\n",
       "supervisor_district                87577\n",
       "neighborhoods_sffind_boundaries    88880\n",
       "police_district                    89937\n",
       "dtype: int64"
      ]
     },
     "execution_count": 7,
     "metadata": {},
     "output_type": "execute_result"
    }
   ],
   "source": [
    "df.isna().sum()"
   ]
  },
  {
   "cell_type": "markdown",
   "metadata": {},
   "source": [
    "### Dropping NaN Values - VARIABLE"
   ]
  },
  {
   "cell_type": "code",
   "execution_count": 8,
   "metadata": {},
   "outputs": [],
   "source": [
    "df.dropna(inplace = True)"
   ]
  },
  {
   "cell_type": "markdown",
   "metadata": {},
   "source": [
    "### NaN Values Removed"
   ]
  },
  {
   "cell_type": "code",
   "execution_count": 9,
   "metadata": {},
   "outputs": [
    {
     "data": {
      "text/plain": [
       "service_request_id                 0\n",
       "Date                               0\n",
       "agency_responsible                 0\n",
       "service_name                       0\n",
       "service_subtype                    0\n",
       "service_details                    0\n",
       "address                            0\n",
       "supervisor_district                0\n",
       "neighborhoods_sffind_boundaries    0\n",
       "police_district                    0\n",
       "dtype: int64"
      ]
     },
     "execution_count": 9,
     "metadata": {},
     "output_type": "execute_result"
    }
   ],
   "source": [
    "df.isna().sum()"
   ]
  },
  {
   "cell_type": "markdown",
   "metadata": {},
   "source": [
    "### Observing Agencies"
   ]
  },
  {
   "cell_type": "code",
   "execution_count": 10,
   "metadata": {},
   "outputs": [
    {
     "data": {
      "text/plain": [
       "DPW Ops Queue                                         865189\n",
       "Recology_Abandoned                                    409184\n",
       "Parking Enforcement Dispatch Queue                    154040\n",
       "DPT Abandoned Vehicles Work Queue                      97109\n",
       "HSOC Queue                                             74577\n",
       "                                                       ...  \n",
       "Mayors Office of Criminal Justice - G                      1\n",
       "PUC - SCSR Queue                                           1\n",
       "HSOC Review Queue                                          1\n",
       "DPW - Bureau of Street and Sewer Repair - G - Hold         1\n",
       "PUC - Electric/Power - G - Hold                            1\n",
       "Name: agency_responsible, Length: 297, dtype: int64"
      ]
     },
     "execution_count": 10,
     "metadata": {},
     "output_type": "execute_result"
    }
   ],
   "source": [
    "df.agency_responsible.value_counts()"
   ]
  },
  {
   "cell_type": "markdown",
   "metadata": {},
   "source": [
    "### Observing Service Details"
   ]
  },
  {
   "cell_type": "code",
   "execution_count": 11,
   "metadata": {},
   "outputs": [
    {
     "data": {
      "text/plain": [
       "Other Loose Garbage                  298796\n",
       "Encampment Cleanup                   213533\n",
       "Boxed or Bagged Items                139306\n",
       "Furniture                            129897\n",
       "Human or Animal Waste                108789\n",
       "                                      ...  \n",
       "Blue - Toyota - 7SVJ604                   1\n",
       "Black - Lexus Sedan - Unread              1\n",
       "blue/silver - Honda - 5DLP972             1\n",
       "White - Budget box truck - 3ak903         1\n",
       "Black - Toyota Rav4 - 55529E2             1\n",
       "Name: service_details, Length: 167705, dtype: int64"
      ]
     },
     "execution_count": 11,
     "metadata": {},
     "output_type": "execute_result"
    }
   ],
   "source": [
    "df.service_details.value_counts()"
   ]
  },
  {
   "cell_type": "markdown",
   "metadata": {},
   "source": [
    "### Counting Agency Quantities"
   ]
  },
  {
   "cell_type": "code",
   "execution_count": 23,
   "metadata": {},
   "outputs": [],
   "source": [
    "counter = Counter(df['agency_responsible'].tolist())"
   ]
  },
  {
   "cell_type": "markdown",
   "metadata": {},
   "source": [
    "### Checking Agency Counts"
   ]
  },
  {
   "cell_type": "code",
   "execution_count": 24,
   "metadata": {},
   "outputs": [
    {
     "data": {
      "text/plain": [
       "Counter({'DPH - Other - G': 524,\n",
       "         'Parking Enforcement Dispatch Queue': 154040,\n",
       "         'Recology_Abandoned': 409184,\n",
       "         'DPT - Traffic Signal - G': 2270,\n",
       "         'DPW Ops Queue': 865189,\n",
       "         'DBI Housing Inspection Queue': 4033,\n",
       "         'RPD NSA Queue': 7734,\n",
       "         'Clear Channel - Transit Queue': 31545,\n",
       "         'Recology_Overflowing': 57439,\n",
       "         'DPH - Environmental Health - Noise Queue': 1146,\n",
       "         'PUC Streetlights Queue': 11355,\n",
       "         'Noise Report Queue': 10227,\n",
       "         'DPT SignShop Repair Queue': 1611,\n",
       "         'Muni Feedback Received Queue': 10586,\n",
       "         'RPD Park Service Area 4 Queue': 2207,\n",
       "         'PUC - Water - G': 11188,\n",
       "         'Duplicate Case Hold Queue': 56865,\n",
       "         'DPW BSM Queue': 53929,\n",
       "         'AT and T - Graffiti Queue': 8475,\n",
       "         'US Postal Service Maintenance Queue': 19479,\n",
       "         'DPT SignShop Queue': 20294,\n",
       "         'PUC Sewer Ops': 33476,\n",
       "         'DPH - Environmental Health - G': 10624,\n",
       "         'DBI Building Inspection Queue': 3327,\n",
       "         'Face Covering Report Queue': 281,\n",
       "         'HSOC Queue': 74577,\n",
       "         'RPD Park Patrol Queue': 3910,\n",
       "         '311 Supervisor Queue': 51322,\n",
       "         'DPT Paint Shop Queue': 3844,\n",
       "         'Parking Enforcement Review Queue': 24362,\n",
       "         'PUC - Water - Graffiti Queue': 4480,\n",
       "         'RPD GGP Queue': 6569,\n",
       "         'SFMTA - Transportation Engineering Queue': 2768,\n",
       "         'DBI Inspection Services Queue': 5293,\n",
       "         '311 Service Request Queue - Hold': 5971,\n",
       "         'SF311 AI Routing Queue': 855,\n",
       "         'Animal Care and Control - G': 3816,\n",
       "         'Assessor - Public Service': 1016,\n",
       "         'District Attorney - Victim Services Queue': 23,\n",
       "         'SFMTA - Parking Enforcement - G': 10093,\n",
       "         'DPT Meter_Bike Queue': 27687,\n",
       "         'Housing Authority SR Queue': 6694,\n",
       "         'Fire Hydrant Maintenance Queue': 426,\n",
       "         'PUC Water Quality Queue': 234,\n",
       "         'Recology_Litter': 12008,\n",
       "         'RPD Park Service Area 3 Queue': 3505,\n",
       "         'Assessor - Transactions': 263,\n",
       "         'DPT Abandoned Vehicles Work Queue': 97109,\n",
       "         'PG and E - Streetlights Queue': 8632,\n",
       "         'RPD Natural Areas Queue': 1073,\n",
       "         'Planning - G': 919,\n",
       "         '311 Service Request Queue': 1220,\n",
       "         'SFMTA - Temporary Sign Request Queue': 5089,\n",
       "         'CCC - Community Branch': 24,\n",
       "         'DPW - Other - G': 200,\n",
       "         'HSOC Individual Queue': 4208,\n",
       "         'RPD Park Service Area 5 Queue': 1951,\n",
       "         'DPT Signal Queue': 4226,\n",
       "         'SFMTA - Scooter Queue': 2584,\n",
       "         'County Clerk - FBN Services': 75,\n",
       "         'Board of Appeals (BOA) - G': 2,\n",
       "         'DPW BUF Queue': 4732,\n",
       "         'Port Authority - G': 3211,\n",
       "         'RPD Park Service Area 1 Queue': 3963,\n",
       "         'DPH - Environmental Health - HazWaste Queue': 1508,\n",
       "         'PUC Electric Service Queue': 84,\n",
       "         'Short Term Rentals - G': 62,\n",
       "         'SFMTA - Livable Streets Queue': 1514,\n",
       "         'DPW - Bureau of Street Use and Mapping - G': 7005,\n",
       "         'Recology_Noise': 1515,\n",
       "         'Assessor - Recorder Division': 114,\n",
       "         'RPD Park Service Area 2 Queue': 3757,\n",
       "         'DPW - Bureau of Street Environmental Services - G': 14298,\n",
       "         'Assessor - Real Property': 587,\n",
       "         'East Cut CBD Queue': 31,\n",
       "         'DPW - Bureau of Building Repair': 113,\n",
       "         'PUC - Sewer - G': 642,\n",
       "         'DPW BSSR Queue': 15135,\n",
       "         'DPT - Color Curb - G': 1145,\n",
       "         'RPD Arboretum/Conservatory of Flowers Queue': 5,\n",
       "         'RPD Park Service Area 6 Queue': 4388,\n",
       "         'RPD Golf Queue': 80,\n",
       "         'SFFD Bureau of Fire Prevention Queue': 569,\n",
       "         'Police - Homeless Concerns Queue': 21419,\n",
       "         'SFMTA - Bicycle Sharing Operations Queue': 201,\n",
       "         'RPD TMA Queue': 1558,\n",
       "         'DPW IDC Queue': 2436,\n",
       "         'RPD Sports and Athletics Queue': 7,\n",
       "         'DBI Electrical Inspection Queue': 106,\n",
       "         'DPH - Environmental Health - Tobacco Queue': 324,\n",
       "         'CCC - Health Services': 17,\n",
       "         'RPD Capital Queue': 46,\n",
       "         'PUC - Billing - G': 55,\n",
       "         'DPH - Homeless Outreach Team  - G': 107,\n",
       "         'Board of Supervisors - Clerk of the Board - G': 58,\n",
       "         'SFFD Other Queue': 214,\n",
       "         'Aging and Adult Services - G': 37,\n",
       "         'HSA - Food Assistance - G': 7,\n",
       "         'Community Education Response Queue': 1970,\n",
       "         'HSOC Vehicle Queue': 380,\n",
       "         'SFMTA - Off-Street Parking Queue': 400,\n",
       "         'Community Education Response Pending Queue': 23,\n",
       "         'Art Commission - G': 135,\n",
       "         'RPD Public Affairs Queue': 382,\n",
       "         'Mayors Office on Housing - G': 18,\n",
       "         'HSH - Housing and Homeless - G': 46,\n",
       "         'Assessor - Business Personal Property': 73,\n",
       "         'SFMTA - Bicycle Sharing Queue': 835,\n",
       "         'SFMTA - Residential Parking Permit Program Queue': 129,\n",
       "         'Technology Wifi Support/Feedback - G': 45,\n",
       "         'Assessor - Exemptions': 231,\n",
       "         'Office of Citizens Complaints - G': 27,\n",
       "         'DBI Support Services Queue': 358,\n",
       "         'Technology - G': 96,\n",
       "         'Entertainment Commission - G': 2243,\n",
       "         'SFMTA - Traffic Calming Queue': 447,\n",
       "         'SFMTA - Temporary Sign Program - G': 180,\n",
       "         'RPD Property Management Queue': 13,\n",
       "         'DBI Permit Services Queue': 372,\n",
       "         'RPD Community Services Queue': 14,\n",
       "         'CCC - Human Services': 1,\n",
       "         'SFMTA - Temporary Sign Request Printing Queue': 4142,\n",
       "         'County Clerk - G': 193,\n",
       "         'DPH - Community Health Network - G': 29,\n",
       "         '311 Manager Queue': 126,\n",
       "         'PUC - Water Waste - Water Queue': 53,\n",
       "         'DPW - Bureau of Building Repair - Bridge/ Plaza/ Tunnel': 18,\n",
       "         'Mayors Office on Disability - G': 96,\n",
       "         'Real Estate Division - Alemany': 17,\n",
       "         'RPD Leisure Services Queue': 72,\n",
       "         'DBI Plumbing Inspection Queue': 39,\n",
       "         'Economic and Workforce Development - G': 29,\n",
       "         'DPW - Bureau of Street and Sewer Repair - G': 581,\n",
       "         'Rent Board - G': 85,\n",
       "         'SFMTA - SFpark Queue': 113,\n",
       "         'Small Business - G': 22,\n",
       "         'DBI - Others - G': 159,\n",
       "         'Mayors Office of Community Development - G': 11,\n",
       "         'RPD Community Gardens Queue': 123,\n",
       "         'PUC - Other - G': 196,\n",
       "         'SFMTA - Citations/Resident Parking Permits - G': 116,\n",
       "         'Environment - G': 44,\n",
       "         'TAXI Complaints Normal Queue': 135,\n",
       "         'SFFD Support Services Queue': 83,\n",
       "         'DPW Hotspot Queue': 41,\n",
       "         'RPD Permits Queue': 58,\n",
       "         'HSA - Other - G': 22,\n",
       "         'Triage - TTX Queue': 14,\n",
       "         'Library, Public - G': 48,\n",
       "         'City College - G': 18,\n",
       "         'Film Commission - G': 24,\n",
       "         'DPT - Bicycle - G': 160,\n",
       "         'CCC - Information and Guidance': 2,\n",
       "         'PUC - Electric/Power - G': 188,\n",
       "         'Medical Examiner - G': 2,\n",
       "         'District Attorney - G': 19,\n",
       "         'DPW - Bureau of Urban Forestry - G': 361,\n",
       "         'Treasure Island Development Authority - G': 17,\n",
       "         'Clerk of the Board Queue - AGibson': 4,\n",
       "         'HSOC Review Queue': 1,\n",
       "         'RPD Marina Queue': 13,\n",
       "         'City Administrator/General Services Agency - G': 3,\n",
       "         'Elections - G': 14,\n",
       "         'Real Estate Department - G': 41,\n",
       "         'Assessor - Business Personal Property - Hold': 1,\n",
       "         'Children, Youth and Families - G': 1,\n",
       "         'DBI Public Services Queue': 33,\n",
       "         'Public Defender - G': 3,\n",
       "         'DBI - Permits - G': 22,\n",
       "         'Office of Cannabis - Feedback': 3,\n",
       "         'SFMTA - Scooter Operations Queue': 25,\n",
       "         'Human Rights Commission - G': 15,\n",
       "         'Ethics Commission - G': 1,\n",
       "         'DPT Abandoned Vehicles Callback Requests Queue': 27,\n",
       "         'Mayors Office of Neighborhood Services - G': 116,\n",
       "         'Controller - G': 5,\n",
       "         'SFMTA - Temporary Sign Request Installation/Enforcement Queue': 90,\n",
       "         'Contract Administration - G': 5,\n",
       "         'County Clerk - Vital Records': 2,\n",
       "         'MUNI Work Queue': 36508,\n",
       "         'DPH - Office of Vital Records - G': 8,\n",
       "         'PUC - Water Waste - Customer Service Queue': 18,\n",
       "         'HSH - Shelter Waitlist Queue': 1,\n",
       "         '311 Escalation Review Queue': 5,\n",
       "         'City Attorney - G': 20,\n",
       "         'Human Services Agency - G': 5,\n",
       "         'Redevelopment Agency - G': 18,\n",
       "         'DBI Plan Review Queue': 3,\n",
       "         'Emergency Management - G': 5,\n",
       "         'Central Shops - G': 7,\n",
       "         'SSP - MTA Lost and Found Queue': 35,\n",
       "         'Juvenile Probation - G': 2,\n",
       "         'Police Department Administration - G': 550,\n",
       "         'Face Covering Report Queue - DO NOT USE': 6,\n",
       "         '311 Escalated KB Questions Queue': 3,\n",
       "         'Labor Standards Enforcement - G': 9,\n",
       "         'PUC Streetlights Hold Queue': 4,\n",
       "         'DPT Paint Shop Curb Queue': 1427,\n",
       "         'Office of Small Business': 1,\n",
       "         'DPT - Accessible Pedestrian Signal - G': 5,\n",
       "         'Mayors Office of Criminal Justice - G': 1,\n",
       "         'Interdepartmental Service Request Queue': 1,\n",
       "         'HSA - Health Care Coverage - G': 2,\n",
       "         'SFMTA - Hearings - G': 1,\n",
       "         'Board of Supervisors - District 5 - G': 3,\n",
       "         'HSOC PHC Queue': 985,\n",
       "         '311 Escalated KB Questions - Covid 19 Queue': 4,\n",
       "         'City Hall Building Management - G': 9,\n",
       "         'HSH - One Day Shelter Reservation Queue': 4,\n",
       "         'Housing Authority SR Hold Queue': 2,\n",
       "         'SFMTA - Muni System Feedback Queue': 1613,\n",
       "         'HSA - Financial Assistance - G': 1,\n",
       "         'TAXI Lost and Found Normal Queue': 1,\n",
       "         'SFMTA - G': 807,\n",
       "         'Port Authority - Temporary Sign Request Queue': 68,\n",
       "         'DPW - Bureau of Urban Forestry - G - Hold': 1,\n",
       "         'PUC - SCSR Queue': 1,\n",
       "         'Queue Management': 1,\n",
       "         'Current Events': 2,\n",
       "         'HSA - Housing and Homeless - G': 33,\n",
       "         'HSOC Queue - Other Jurisdiction Hold': 22,\n",
       "         'Status of Women - G': 1,\n",
       "         'DPT Paint Shop Pavement Queue': 123,\n",
       "         'DPT Paint Shop Transit Queue': 286,\n",
       "         'RPD Cultural Arts Queue': 8,\n",
       "         'PUC - Water Waste - Communication Queue': 3,\n",
       "         'DPW - Bureau of Building Repair - Police/ Fire Call Box': 1,\n",
       "         'Graffiti Abatement - Internal Queue': 418,\n",
       "         'SFMTA - UPI/TDM Queue': 141,\n",
       "         'DPT Paint Shop Hold Queue': 7,\n",
       "         'Grants for the Arts - G': 1,\n",
       "         'HSA - Child Welfare and Family Support - G': 2,\n",
       "         'Lower Polk CBD Queue': 25,\n",
       "         'RPD Administration/Finance Queue': 15,\n",
       "         'RPD Graffiti Queue': 295,\n",
       "         'DPW - Bureau of Street Use and Mapping - G - Hold': 2,\n",
       "         'PUC - Sewer - G - Hold': 2,\n",
       "         'DPT - Color Curb - G - Hold': 1,\n",
       "         'RPD Recreation Registration Queue': 2,\n",
       "         'DPT Color Curb Queue': 1878,\n",
       "         'Animal Care and Control - G - Hold': 2,\n",
       "         'Port Authority - G - Hold': 7,\n",
       "         'SSP - MTA Feedback Queue': 108,\n",
       "         'County Clerk - G - Hold': 1,\n",
       "         'DPT Color Curb Payment Received Queue': 64,\n",
       "         'Fire Department - G': 42,\n",
       "         'PUC - Electric/Power - G - Hold': 1,\n",
       "         'TAXI Complaints High Queue': 2,\n",
       "         'DPT - Other - G': 2299,\n",
       "         'DPW - Other - G - Hold': 2,\n",
       "         'Asian Art Museum - G': 3,\n",
       "         'Customer Satisfaction Work Queue': 1,\n",
       "         'DPT SignShop 01 Queue': 697,\n",
       "         'DPW - Bureau of Street Environmental Services - G - Hold': 1,\n",
       "         'Board of Supervisors - District 4 - G': 4,\n",
       "         'DPT SignShop 07 Queue': 453,\n",
       "         'DPT SignShop 03 Queue': 644,\n",
       "         'Airport, San Francisco International - G': 1,\n",
       "         'Aging and Adult Services - G - Hold': 1,\n",
       "         'SSP - MTA General Complaints Queue': 3,\n",
       "         'DPT - Construction Permits - G': 9,\n",
       "         'DPT - Other - G - Hold': 3,\n",
       "         'DPT - Sign Shop - G': 53,\n",
       "         'DPT SignShop 08 Queue': 849,\n",
       "         'DPT SignShop 05 Queue': 1886,\n",
       "         'DPT SignShop 04 Queue': 591,\n",
       "         'DPT SignShop 06 Queue': 566,\n",
       "         'RPD Partnerships Queue': 1,\n",
       "         'Airport, San Francisco International - G - Hold': 1,\n",
       "         'DPT SignShop 02 Queue': 619,\n",
       "         'DPT SignShop 11 Queue': 196,\n",
       "         'DPT SignShop Unknown Queue': 33,\n",
       "         'Sheriff - G': 2,\n",
       "         'DPT SignShop 10 Queue': 340,\n",
       "         'DPT SignShop 09 Queue': 407,\n",
       "         'DPT SignShop Surveyed - Area 1 Queue': 660,\n",
       "         'DPT SignShop Surveyed - Area 2 Queue': 1609,\n",
       "         'DPT SignShop Survey Tech - Sean Philpott Queue': 18,\n",
       "         'DPT SignShop Survey Tech - Winston Parkhurst Queue': 10,\n",
       "         'DPT - Meters - G': 58,\n",
       "         'DPT SignShop Survey Tech - Anthony Alonzo Queue': 213,\n",
       "         'EC Outdoor Soundpermit Queue': 4,\n",
       "         'DPW - Bureau of Street and Sewer Repair - G - Hold': 1,\n",
       "         'DPT - Traffic Signal - G - Hold': 1,\n",
       "         'DPT Construction Zone Permits Queue': 4,\n",
       "         'DPT - Meters - G - Hold': 1,\n",
       "         'PUC - Water - G - Hold': 4,\n",
       "         'Board of Supervisors - District 7 - G': 1,\n",
       "         'SFMTA - Parking Enforcement - G - Hold': 3,\n",
       "         'DPT SignShop Survey Tech - Dave McLaughlin Queue': 34,\n",
       "         'SFMTA - Muni Questions/Suggestions - G': 6,\n",
       "         'DPH - Environmental Health - G - Hold': 4,\n",
       "         'SFMTA - Strategic Planning/Policy Queue': 1,\n",
       "         'Board of Supervisors - District 9 - G': 1,\n",
       "         'Convention Facilities - G': 5,\n",
       "         'Board of Supervisors - District 6 - G': 1,\n",
       "         '311 SSP Inbound QA Queue': 1})"
      ]
     },
     "execution_count": 24,
     "metadata": {},
     "output_type": "execute_result"
    }
   ],
   "source": [
    "counter"
   ]
  },
  {
   "cell_type": "markdown",
   "metadata": {},
   "source": [
    "### Finding Top 100 Agencies"
   ]
  },
  {
   "cell_type": "code",
   "execution_count": 25,
   "metadata": {},
   "outputs": [],
   "source": [
    "top_agencies = {i[0]: idx for idx, i in enumerate(counter.most_common(100))}"
   ]
  },
  {
   "cell_type": "markdown",
   "metadata": {},
   "source": [
    "### List of Top Agencies"
   ]
  },
  {
   "cell_type": "markdown",
   "metadata": {},
   "source": [
    "The number is an index number, not the quantity that correlates to the requests."
   ]
  },
  {
   "cell_type": "code",
   "execution_count": 26,
   "metadata": {
    "scrolled": true
   },
   "outputs": [
    {
     "data": {
      "text/plain": [
       "{'DPW Ops Queue': 0,\n",
       " 'Recology_Abandoned': 1,\n",
       " 'Parking Enforcement Dispatch Queue': 2,\n",
       " 'DPT Abandoned Vehicles Work Queue': 3,\n",
       " 'HSOC Queue': 4,\n",
       " 'Recology_Overflowing': 5,\n",
       " 'Duplicate Case Hold Queue': 6,\n",
       " 'DPW BSM Queue': 7,\n",
       " '311 Supervisor Queue': 8,\n",
       " 'MUNI Work Queue': 9,\n",
       " 'PUC Sewer Ops': 10,\n",
       " 'Clear Channel - Transit Queue': 11,\n",
       " 'DPT Meter_Bike Queue': 12,\n",
       " 'Parking Enforcement Review Queue': 13,\n",
       " 'Police - Homeless Concerns Queue': 14,\n",
       " 'DPT SignShop Queue': 15,\n",
       " 'US Postal Service Maintenance Queue': 16,\n",
       " 'DPW BSSR Queue': 17,\n",
       " 'DPW - Bureau of Street Environmental Services - G': 18,\n",
       " 'Recology_Litter': 19,\n",
       " 'PUC Streetlights Queue': 20,\n",
       " 'PUC - Water - G': 21,\n",
       " 'DPH - Environmental Health - G': 22,\n",
       " 'Muni Feedback Received Queue': 23,\n",
       " 'Noise Report Queue': 24,\n",
       " 'SFMTA - Parking Enforcement - G': 25,\n",
       " 'PG and E - Streetlights Queue': 26,\n",
       " 'AT and T - Graffiti Queue': 27,\n",
       " 'RPD NSA Queue': 28,\n",
       " 'DPW - Bureau of Street Use and Mapping - G': 29,\n",
       " 'Housing Authority SR Queue': 30,\n",
       " 'RPD GGP Queue': 31,\n",
       " '311 Service Request Queue - Hold': 32,\n",
       " 'DBI Inspection Services Queue': 33,\n",
       " 'SFMTA - Temporary Sign Request Queue': 34,\n",
       " 'DPW BUF Queue': 35,\n",
       " 'PUC - Water - Graffiti Queue': 36,\n",
       " 'RPD Park Service Area 6 Queue': 37,\n",
       " 'DPT Signal Queue': 38,\n",
       " 'HSOC Individual Queue': 39,\n",
       " 'SFMTA - Temporary Sign Request Printing Queue': 40,\n",
       " 'DBI Housing Inspection Queue': 41,\n",
       " 'RPD Park Service Area 1 Queue': 42,\n",
       " 'RPD Park Patrol Queue': 43,\n",
       " 'DPT Paint Shop Queue': 44,\n",
       " 'Animal Care and Control - G': 45,\n",
       " 'RPD Park Service Area 2 Queue': 46,\n",
       " 'RPD Park Service Area 3 Queue': 47,\n",
       " 'DBI Building Inspection Queue': 48,\n",
       " 'Port Authority - G': 49,\n",
       " 'SFMTA - Transportation Engineering Queue': 50,\n",
       " 'SFMTA - Scooter Queue': 51,\n",
       " 'DPW IDC Queue': 52,\n",
       " 'DPT - Other - G': 53,\n",
       " 'DPT - Traffic Signal - G': 54,\n",
       " 'Entertainment Commission - G': 55,\n",
       " 'RPD Park Service Area 4 Queue': 56,\n",
       " 'Community Education Response Queue': 57,\n",
       " 'RPD Park Service Area 5 Queue': 58,\n",
       " 'DPT SignShop 05 Queue': 59,\n",
       " 'DPT Color Curb Queue': 60,\n",
       " 'SFMTA - Muni System Feedback Queue': 61,\n",
       " 'DPT SignShop Repair Queue': 62,\n",
       " 'DPT SignShop Surveyed - Area 2 Queue': 63,\n",
       " 'RPD TMA Queue': 64,\n",
       " 'Recology_Noise': 65,\n",
       " 'SFMTA - Livable Streets Queue': 66,\n",
       " 'DPH - Environmental Health - HazWaste Queue': 67,\n",
       " 'DPT Paint Shop Curb Queue': 68,\n",
       " '311 Service Request Queue': 69,\n",
       " 'DPH - Environmental Health - Noise Queue': 70,\n",
       " 'DPT - Color Curb - G': 71,\n",
       " 'RPD Natural Areas Queue': 72,\n",
       " 'Assessor - Public Service': 73,\n",
       " 'HSOC PHC Queue': 74,\n",
       " 'Planning - G': 75,\n",
       " 'SF311 AI Routing Queue': 76,\n",
       " 'DPT SignShop 08 Queue': 77,\n",
       " 'SFMTA - Bicycle Sharing Queue': 78,\n",
       " 'SFMTA - G': 79,\n",
       " 'DPT SignShop 01 Queue': 80,\n",
       " 'DPT SignShop Surveyed - Area 1 Queue': 81,\n",
       " 'DPT SignShop 03 Queue': 82,\n",
       " 'PUC - Sewer - G': 83,\n",
       " 'DPT SignShop 02 Queue': 84,\n",
       " 'DPT SignShop 04 Queue': 85,\n",
       " 'Assessor - Real Property': 86,\n",
       " 'DPW - Bureau of Street and Sewer Repair - G': 87,\n",
       " 'SFFD Bureau of Fire Prevention Queue': 88,\n",
       " 'DPT SignShop 06 Queue': 89,\n",
       " 'Police Department Administration - G': 90,\n",
       " 'DPH - Other - G': 91,\n",
       " 'DPT SignShop 07 Queue': 92,\n",
       " 'SFMTA - Traffic Calming Queue': 93,\n",
       " 'Fire Hydrant Maintenance Queue': 94,\n",
       " 'Graffiti Abatement - Internal Queue': 95,\n",
       " 'DPT SignShop 09 Queue': 96,\n",
       " 'SFMTA - Off-Street Parking Queue': 97,\n",
       " 'RPD Public Affairs Queue': 98,\n",
       " 'HSOC Vehicle Queue': 99}"
      ]
     },
     "execution_count": 26,
     "metadata": {},
     "output_type": "execute_result"
    }
   ],
   "source": [
    "top_agencies"
   ]
  },
  {
   "cell_type": "markdown",
   "metadata": {},
   "source": [
    "### i dont know what this part of the code is doing"
   ]
  },
  {
   "cell_type": "code",
   "execution_count": 27,
   "metadata": {},
   "outputs": [],
   "source": [
    "df = df[df['agency_responsible'].map(lambda x: x in top_agencies)]"
   ]
  },
  {
   "cell_type": "code",
   "execution_count": 28,
   "metadata": {},
   "outputs": [
    {
     "data": {
      "text/html": [
       "<div>\n",
       "<style scoped>\n",
       "    .dataframe tbody tr th:only-of-type {\n",
       "        vertical-align: middle;\n",
       "    }\n",
       "\n",
       "    .dataframe tbody tr th {\n",
       "        vertical-align: top;\n",
       "    }\n",
       "\n",
       "    .dataframe thead th {\n",
       "        text-align: right;\n",
       "    }\n",
       "</style>\n",
       "<table border=\"1\" class=\"dataframe\">\n",
       "  <thead>\n",
       "    <tr style=\"text-align: right;\">\n",
       "      <th></th>\n",
       "      <th>service_request_id</th>\n",
       "      <th>Date</th>\n",
       "      <th>agency_responsible</th>\n",
       "      <th>service_name</th>\n",
       "      <th>service_subtype</th>\n",
       "      <th>service_details</th>\n",
       "      <th>address</th>\n",
       "      <th>supervisor_district</th>\n",
       "      <th>neighborhoods_sffind_boundaries</th>\n",
       "      <th>police_district</th>\n",
       "    </tr>\n",
       "  </thead>\n",
       "  <tbody>\n",
       "    <tr>\n",
       "      <th>0</th>\n",
       "      <td>13333616</td>\n",
       "      <td>2021-01-06</td>\n",
       "      <td>DPH - Other - G</td>\n",
       "      <td>General Request - DPH</td>\n",
       "      <td>request_for_service</td>\n",
       "      <td>dph_other - request_for_service</td>\n",
       "      <td>Intersection of TURK ST and JONES ST</td>\n",
       "      <td>6</td>\n",
       "      <td>Tenderloin</td>\n",
       "      <td>TENDERLOIN</td>\n",
       "    </tr>\n",
       "    <tr>\n",
       "      <th>2</th>\n",
       "      <td>13333604</td>\n",
       "      <td>2021-01-06</td>\n",
       "      <td>Parking Enforcement Dispatch Queue</td>\n",
       "      <td>Parking Enforcement</td>\n",
       "      <td>Parking_on_Sidewalk</td>\n",
       "      <td>Bronze - Lexus - N/a</td>\n",
       "      <td>176 LEE AVE, SAN FRANCISCO, CA, 94112</td>\n",
       "      <td>11</td>\n",
       "      <td>Ingleside</td>\n",
       "      <td>TARAVAL</td>\n",
       "    </tr>\n",
       "    <tr>\n",
       "      <th>3</th>\n",
       "      <td>13333603</td>\n",
       "      <td>2021-01-06</td>\n",
       "      <td>Parking Enforcement Dispatch Queue</td>\n",
       "      <td>Parking Enforcement</td>\n",
       "      <td>Parking_on_Sidewalk</td>\n",
       "      <td>Parking Enforcement</td>\n",
       "      <td>196 LEE AVE, SAN FRANCISCO, CA, 94112</td>\n",
       "      <td>11</td>\n",
       "      <td>Ingleside</td>\n",
       "      <td>TARAVAL</td>\n",
       "    </tr>\n",
       "    <tr>\n",
       "      <th>4</th>\n",
       "      <td>13333602</td>\n",
       "      <td>2021-01-06</td>\n",
       "      <td>Parking Enforcement Dispatch Queue</td>\n",
       "      <td>Parking Enforcement</td>\n",
       "      <td>Parking_on_Sidewalk</td>\n",
       "      <td>Parking Enforcement</td>\n",
       "      <td>229 LEE AVE, SAN FRANCISCO, CA, 94112</td>\n",
       "      <td>7</td>\n",
       "      <td>Ingleside</td>\n",
       "      <td>TARAVAL</td>\n",
       "    </tr>\n",
       "    <tr>\n",
       "      <th>5</th>\n",
       "      <td>13333601</td>\n",
       "      <td>2021-01-06</td>\n",
       "      <td>Recology_Abandoned</td>\n",
       "      <td>Street and Sidewalk Cleaning</td>\n",
       "      <td>Bulky Items</td>\n",
       "      <td>Refrigerator</td>\n",
       "      <td>Intersection of 24TH ST and OSAGE ALY</td>\n",
       "      <td>9</td>\n",
       "      <td>Mission</td>\n",
       "      <td>MISSION</td>\n",
       "    </tr>\n",
       "  </tbody>\n",
       "</table>\n",
       "</div>"
      ],
      "text/plain": [
       "  service_request_id       Date                  agency_responsible  \\\n",
       "0           13333616 2021-01-06                     DPH - Other - G   \n",
       "2           13333604 2021-01-06  Parking Enforcement Dispatch Queue   \n",
       "3           13333603 2021-01-06  Parking Enforcement Dispatch Queue   \n",
       "4           13333602 2021-01-06  Parking Enforcement Dispatch Queue   \n",
       "5           13333601 2021-01-06                  Recology_Abandoned   \n",
       "\n",
       "                   service_name      service_subtype  \\\n",
       "0         General Request - DPH  request_for_service   \n",
       "2           Parking Enforcement  Parking_on_Sidewalk   \n",
       "3           Parking Enforcement  Parking_on_Sidewalk   \n",
       "4           Parking Enforcement  Parking_on_Sidewalk   \n",
       "5  Street and Sidewalk Cleaning          Bulky Items   \n",
       "\n",
       "                   service_details                                address  \\\n",
       "0  dph_other - request_for_service   Intersection of TURK ST and JONES ST   \n",
       "2             Bronze - Lexus - N/a  176 LEE AVE, SAN FRANCISCO, CA, 94112   \n",
       "3              Parking Enforcement  196 LEE AVE, SAN FRANCISCO, CA, 94112   \n",
       "4              Parking Enforcement  229 LEE AVE, SAN FRANCISCO, CA, 94112   \n",
       "5                     Refrigerator  Intersection of 24TH ST and OSAGE ALY   \n",
       "\n",
       "  supervisor_district neighborhoods_sffind_boundaries police_district  \n",
       "0                   6                      Tenderloin      TENDERLOIN  \n",
       "2                  11                       Ingleside         TARAVAL  \n",
       "3                  11                       Ingleside         TARAVAL  \n",
       "4                   7                       Ingleside         TARAVAL  \n",
       "5                   9                         Mission         MISSION  "
      ]
     },
     "execution_count": 28,
     "metadata": {},
     "output_type": "execute_result"
    }
   ],
   "source": [
    "df.head()"
   ]
  },
  {
   "cell_type": "code",
   "execution_count": 29,
   "metadata": {
    "scrolled": true
   },
   "outputs": [
    {
     "data": {
      "text/plain": [
       "23191820"
      ]
     },
     "execution_count": 29,
     "metadata": {},
     "output_type": "execute_result"
    }
   ],
   "source": [
    "df.size"
   ]
  },
  {
   "cell_type": "markdown",
   "metadata": {},
   "source": [
    "### List of Service Details"
   ]
  },
  {
   "cell_type": "code",
   "execution_count": 30,
   "metadata": {},
   "outputs": [],
   "source": [
    "description_list = df['service_details'].tolist()"
   ]
  },
  {
   "cell_type": "markdown",
   "metadata": {},
   "source": [
    "### Array of Agencies"
   ]
  },
  {
   "cell_type": "code",
   "execution_count": 31,
   "metadata": {},
   "outputs": [],
   "source": [
    "agency_list = [top_agencies[i] for i in df['agency_responsible'].tolist()]\n",
    "agency_list = np.array(agency_list)"
   ]
  },
  {
   "cell_type": "code",
   "execution_count": 32,
   "metadata": {
    "scrolled": true
   },
   "outputs": [
    {
     "data": {
      "text/plain": [
       "array([91,  2,  2, ...,  1,  0,  5])"
      ]
     },
     "execution_count": 32,
     "metadata": {},
     "output_type": "execute_result"
    }
   ],
   "source": [
    "agency_list"
   ]
  },
  {
   "cell_type": "code",
   "execution_count": 33,
   "metadata": {},
   "outputs": [],
   "source": [
    "count_vect = CountVectorizer()\n",
    "x_train_counts = count_vect.fit_transform(description_list)\n",
    "\n",
    "tfidf_transformer = TfidfTransformer()\n",
    "x_train_tfidf = tfidf_transformer.fit_transform(x_train_counts)\n",
    "\n",
    "train_x, test_x, train_y, test_y = train_test_split(x_train_tfidf, agency_list, test_size=0.3)\n"
   ]
  },
  {
   "cell_type": "code",
   "execution_count": 34,
   "metadata": {},
   "outputs": [
    {
     "name": "stdout",
     "output_type": "stream",
     "text": [
      "Accuracy: 77.45%\n"
     ]
    }
   ],
   "source": [
    "clf = MultinomialNB().fit(train_x, train_y)\n",
    "y_score = clf.predict(test_x)\n",
    "\n",
    "n_right = 0\n",
    "for i in range(len(y_score)):\n",
    "    if y_score[i] == test_y[i]:\n",
    "        n_right += 1\n",
    "\n",
    "print(\"Accuracy: %.2f%%\" % ((n_right/float(len(test_y)) * 100)))"
   ]
  },
  {
   "cell_type": "markdown",
   "metadata": {},
   "source": [
    "### Observing Accuracy Without Text Processing"
   ]
  },
  {
   "cell_type": "markdown",
   "metadata": {},
   "source": [
    "The accuracy is lower than it could be with modeling. "
   ]
  },
  {
   "cell_type": "markdown",
   "metadata": {},
   "source": [
    "### Cleaning the Data"
   ]
  },
  {
   "cell_type": "markdown",
   "metadata": {},
   "source": [
    "Creating functions to count the top words, replace them, and filter them. "
   ]
  },
  {
   "cell_type": "code",
   "execution_count": 35,
   "metadata": {},
   "outputs": [],
   "source": [
    "def count_top_x_words(corpus, top_x, skip_top_n):\n",
    "    ''' docstring for counting words '''\n",
    "    count = defaultdict(lambda: 0)\n",
    "    for c in corpus:\n",
    "        for w in word_tokenize(c):\n",
    "            count[w] += 1\n",
    "    count_tuples = sorted([(w, c) for w, c in count.items()], key=lambda x: x[1], reverse=True)\n",
    "    return [i[0] for i in count_tuples[skip_top_n: skip_top_n + top_x]]\n",
    "\n",
    "\n",
    "def replace_top_x_words_with_vectors(corpus, top_x):\n",
    "    ''' replacing all the top words with vectors '''\n",
    "    topx_dict = {top_x[i]: i for i in range(len(top_x))}\n",
    "\n",
    "    return [\n",
    "        [topx_dict[w] for w in word_tokenize(s) if w in topx_dict]\n",
    "        for s in corpus\n",
    "    ], topx_dict\n",
    "\n",
    "\n",
    "def filter_to_top_x(corpus, n_top, skip_n_top=0):\n",
    "    ''' filter words to top '''\n",
    "    top_x = count_top_x_words(corpus, n_top, skip_n_top)\n",
    "    return replace_top_x_words_with_vectors(corpus, top_x)"
   ]
  },
  {
   "cell_type": "code",
   "execution_count": 36,
   "metadata": {},
   "outputs": [],
   "source": [
    "def count_top_x_words(corpus, top_x, skip_top_n):\n",
    "    ''' '''\n",
    "    count = defaultdict(lambda: 0)\n",
    "    for c in corpus:\n",
    "        for w in word_tokenize(c):\n",
    "            count[w] += 1\n",
    "    count_tuples = sorted([(w, c) for w, c in count.items()], key=lambda x: x[1], reverse=True)\n",
    "    return [i[0] for i in count_tuples[skip_top_n: skip_top_n + top_x]]\n",
    "\n",
    "\n",
    "def replace_top_x_words_with_vectors(corpus, top_x):\n",
    "    ''' '''\n",
    "    topx_dict = {top_x[i]: i for i in range(len(top_x))}\n",
    "\n",
    "    return [\n",
    "        [topx_dict[w] for w in word_tokenize(s) if w in topx_dict]\n",
    "        for s in corpus\n",
    "    ], topx_dict\n",
    "\n",
    "\n",
    "def filter_to_top_x(corpus, n_top, skip_n_top=0):\n",
    "    ''' '''\n",
    "    top_x = count_top_x_words(corpus, n_top, skip_n_top)\n",
    "    return replace_top_x_words_with_vectors(corpus, top_x)\n"
   ]
  },
  {
   "cell_type": "markdown",
   "metadata": {},
   "source": [
    "### Modeling the Data"
   ]
  },
  {
   "cell_type": "markdown",
   "metadata": {},
   "source": [
    "Importing the same pickled dataframe. "
   ]
  },
  {
   "cell_type": "code",
   "execution_count": 55,
   "metadata": {},
   "outputs": [],
   "source": [
    "df = pd.read_pickle(\"data/before_df.pkl\")"
   ]
  },
  {
   "cell_type": "code",
   "execution_count": 56,
   "metadata": {},
   "outputs": [
    {
     "data": {
      "text/html": [
       "<div>\n",
       "<style scoped>\n",
       "    .dataframe tbody tr th:only-of-type {\n",
       "        vertical-align: middle;\n",
       "    }\n",
       "\n",
       "    .dataframe tbody tr th {\n",
       "        vertical-align: top;\n",
       "    }\n",
       "\n",
       "    .dataframe thead th {\n",
       "        text-align: right;\n",
       "    }\n",
       "</style>\n",
       "<table border=\"1\" class=\"dataframe\">\n",
       "  <thead>\n",
       "    <tr style=\"text-align: right;\">\n",
       "      <th></th>\n",
       "      <th>service_request_id</th>\n",
       "      <th>Date</th>\n",
       "      <th>agency_responsible</th>\n",
       "      <th>service_name</th>\n",
       "      <th>service_subtype</th>\n",
       "      <th>service_details</th>\n",
       "      <th>address</th>\n",
       "      <th>supervisor_district</th>\n",
       "      <th>neighborhoods_sffind_boundaries</th>\n",
       "      <th>police_district</th>\n",
       "    </tr>\n",
       "  </thead>\n",
       "  <tbody>\n",
       "    <tr>\n",
       "      <th>0</th>\n",
       "      <td>13333616</td>\n",
       "      <td>2021-01-06</td>\n",
       "      <td>DPH - Other - G</td>\n",
       "      <td>General Request - DPH</td>\n",
       "      <td>request_for_service</td>\n",
       "      <td>dph_other - request_for_service</td>\n",
       "      <td>Intersection of TURK ST and JONES ST</td>\n",
       "      <td>6</td>\n",
       "      <td>Tenderloin</td>\n",
       "      <td>TENDERLOIN</td>\n",
       "    </tr>\n",
       "    <tr>\n",
       "      <th>1</th>\n",
       "      <td>13333606</td>\n",
       "      <td>2021-01-06</td>\n",
       "      <td>Mayors Office of Neighborhood Services - G</td>\n",
       "      <td>General Request - MONS</td>\n",
       "      <td>complaint</td>\n",
       "      <td>mons - complaint</td>\n",
       "      <td>Not associated with a specific address</td>\n",
       "      <td>NaN</td>\n",
       "      <td>NaN</td>\n",
       "      <td>NaN</td>\n",
       "    </tr>\n",
       "    <tr>\n",
       "      <th>2</th>\n",
       "      <td>13333604</td>\n",
       "      <td>2021-01-06</td>\n",
       "      <td>Parking Enforcement Dispatch Queue</td>\n",
       "      <td>Parking Enforcement</td>\n",
       "      <td>Parking_on_Sidewalk</td>\n",
       "      <td>Bronze - Lexus - N/a</td>\n",
       "      <td>176 LEE AVE, SAN FRANCISCO, CA, 94112</td>\n",
       "      <td>11</td>\n",
       "      <td>Ingleside</td>\n",
       "      <td>TARAVAL</td>\n",
       "    </tr>\n",
       "    <tr>\n",
       "      <th>3</th>\n",
       "      <td>13333603</td>\n",
       "      <td>2021-01-06</td>\n",
       "      <td>Parking Enforcement Dispatch Queue</td>\n",
       "      <td>Parking Enforcement</td>\n",
       "      <td>Parking_on_Sidewalk</td>\n",
       "      <td>Parking Enforcement</td>\n",
       "      <td>196 LEE AVE, SAN FRANCISCO, CA, 94112</td>\n",
       "      <td>11</td>\n",
       "      <td>Ingleside</td>\n",
       "      <td>TARAVAL</td>\n",
       "    </tr>\n",
       "    <tr>\n",
       "      <th>4</th>\n",
       "      <td>13333602</td>\n",
       "      <td>2021-01-06</td>\n",
       "      <td>Parking Enforcement Dispatch Queue</td>\n",
       "      <td>Parking Enforcement</td>\n",
       "      <td>Parking_on_Sidewalk</td>\n",
       "      <td>Parking Enforcement</td>\n",
       "      <td>229 LEE AVE, SAN FRANCISCO, CA, 94112</td>\n",
       "      <td>7</td>\n",
       "      <td>Ingleside</td>\n",
       "      <td>TARAVAL</td>\n",
       "    </tr>\n",
       "  </tbody>\n",
       "</table>\n",
       "</div>"
      ],
      "text/plain": [
       "  service_request_id       Date                          agency_responsible  \\\n",
       "0           13333616 2021-01-06                             DPH - Other - G   \n",
       "1           13333606 2021-01-06  Mayors Office of Neighborhood Services - G   \n",
       "2           13333604 2021-01-06          Parking Enforcement Dispatch Queue   \n",
       "3           13333603 2021-01-06          Parking Enforcement Dispatch Queue   \n",
       "4           13333602 2021-01-06          Parking Enforcement Dispatch Queue   \n",
       "\n",
       "             service_name      service_subtype  \\\n",
       "0   General Request - DPH  request_for_service   \n",
       "1  General Request - MONS            complaint   \n",
       "2     Parking Enforcement  Parking_on_Sidewalk   \n",
       "3     Parking Enforcement  Parking_on_Sidewalk   \n",
       "4     Parking Enforcement  Parking_on_Sidewalk   \n",
       "\n",
       "                   service_details                                 address  \\\n",
       "0  dph_other - request_for_service    Intersection of TURK ST and JONES ST   \n",
       "1                 mons - complaint  Not associated with a specific address   \n",
       "2             Bronze - Lexus - N/a   176 LEE AVE, SAN FRANCISCO, CA, 94112   \n",
       "3              Parking Enforcement   196 LEE AVE, SAN FRANCISCO, CA, 94112   \n",
       "4              Parking Enforcement   229 LEE AVE, SAN FRANCISCO, CA, 94112   \n",
       "\n",
       "  supervisor_district neighborhoods_sffind_boundaries police_district  \n",
       "0                   6                      Tenderloin      TENDERLOIN  \n",
       "1                 NaN                             NaN             NaN  \n",
       "2                  11                       Ingleside         TARAVAL  \n",
       "3                  11                       Ingleside         TARAVAL  \n",
       "4                   7                       Ingleside         TARAVAL  "
      ]
     },
     "execution_count": 56,
     "metadata": {},
     "output_type": "execute_result"
    }
   ],
   "source": [
    "df.head()"
   ]
  },
  {
   "cell_type": "code",
   "execution_count": 57,
   "metadata": {},
   "outputs": [],
   "source": [
    "counter = Counter(df['agency_responsible'].tolist())\n",
    "top_agencies = {i[0]: idx for idx, i in enumerate(counter.most_common(100))}\n",
    "df = df[df['agency_responsible'].map(lambda x: x in top_agencies)]\n"
   ]
  },
  {
   "cell_type": "code",
   "execution_count": 58,
   "metadata": {},
   "outputs": [],
   "source": [
    "description_list = df['agency_responsible'].tolist()"
   ]
  },
  {
   "cell_type": "markdown",
   "metadata": {},
   "source": [
    "### Creation of Array and Word List"
   ]
  },
  {
   "cell_type": "code",
   "execution_count": 62,
   "metadata": {},
   "outputs": [],
   "source": [
    "mapped_list, word_list = filter_to_top_x(description_list, 2500, 0)\n"
   ]
  },
  {
   "cell_type": "code",
   "execution_count": 64,
   "metadata": {},
   "outputs": [],
   "source": [
    "agency_list_o = [top_agencies[i] for i in df['agency_responsible'].tolist()]\n",
    "agency_list = to_categorical(agency_list_o)\n"
   ]
  },
  {
   "cell_type": "code",
   "execution_count": 65,
   "metadata": {},
   "outputs": [
    {
     "name": "stdout",
     "output_type": "stream",
     "text": [
      "Epoch 1/3\n",
      "26243/26243 [==============================] - 483s 18ms/step - loss: 0.0974 - accuracy: 0.9793\n",
      "Epoch 2/3\n",
      "26243/26243 [==============================] - 480s 18ms/step - loss: 1.6113e-04 - accuracy: 1.0000\n",
      "Epoch 3/3\n",
      "26243/26243 [==============================] - 483s 18ms/step - loss: 3.3870e-04 - accuracy: 1.0000\n",
      "Accuracy: 100.00%\n"
     ]
    }
   ],
   "source": [
    "max_review_length = 150\n",
    "\n",
    "mapped_list = sequence.pad_sequences(mapped_list, maxlen=max_review_length)\n",
    "train_x, test_x, train_y, test_y = train_test_split(mapped_list, agency_list, test_size=0.3)\n",
    "\n",
    "max_review_length = 150\n",
    "\n",
    "embedding_vector_length = 64\n",
    "model = Sequential()\n",
    "\n",
    "model.add(Embedding(2500, embedding_vector_length, input_length=max_review_length))\n",
    "model.add(Conv1D(50, 5))\n",
    "model.add(Flatten())\n",
    "model.add(Dense(100, activation='relu'))\n",
    "model.add(Dense(max(agency_list_o) + 1, activation='softmax'))\n",
    "model.compile(loss='categorical_crossentropy', optimizer='adam', metrics=['accuracy'])\n",
    "model.fit(train_x, train_y, epochs=3, batch_size=64)\n",
    "\n",
    "y_score = model.predict(test_x)\n",
    "y_score = [[1 if i == max(sc) else 0 for i in sc] for sc in y_score]\n",
    "n_right = 0\n",
    "for i in range(len(y_score)):\n",
    "    if all(y_score[i][j] == test_y[i][j] for j in range(len(y_score[i]))):\n",
    "        n_right += 1\n",
    "\n",
    "print(\"Accuracy: %.2f%%\" % ((n_right/float(len(test_y)) * 100)))"
   ]
  },
  {
   "cell_type": "markdown",
   "metadata": {},
   "source": [
    "### Support Vector Machine Model"
   ]
  },
  {
   "cell_type": "markdown",
   "metadata": {},
   "source": [
    "### Importing Pickled Dataframe"
   ]
  },
  {
   "cell_type": "code",
   "execution_count": 66,
   "metadata": {},
   "outputs": [],
   "source": [
    "df = pd.read_pickle(\"data/before_df.pkl\")"
   ]
  },
  {
   "cell_type": "code",
   "execution_count": 67,
   "metadata": {},
   "outputs": [
    {
     "data": {
      "text/html": [
       "<div>\n",
       "<style scoped>\n",
       "    .dataframe tbody tr th:only-of-type {\n",
       "        vertical-align: middle;\n",
       "    }\n",
       "\n",
       "    .dataframe tbody tr th {\n",
       "        vertical-align: top;\n",
       "    }\n",
       "\n",
       "    .dataframe thead th {\n",
       "        text-align: right;\n",
       "    }\n",
       "</style>\n",
       "<table border=\"1\" class=\"dataframe\">\n",
       "  <thead>\n",
       "    <tr style=\"text-align: right;\">\n",
       "      <th></th>\n",
       "      <th>service_request_id</th>\n",
       "      <th>Date</th>\n",
       "      <th>agency_responsible</th>\n",
       "      <th>service_name</th>\n",
       "      <th>service_subtype</th>\n",
       "      <th>service_details</th>\n",
       "      <th>address</th>\n",
       "      <th>supervisor_district</th>\n",
       "      <th>neighborhoods_sffind_boundaries</th>\n",
       "      <th>police_district</th>\n",
       "    </tr>\n",
       "  </thead>\n",
       "  <tbody>\n",
       "    <tr>\n",
       "      <th>0</th>\n",
       "      <td>13333616</td>\n",
       "      <td>2021-01-06</td>\n",
       "      <td>DPH - Other - G</td>\n",
       "      <td>General Request - DPH</td>\n",
       "      <td>request_for_service</td>\n",
       "      <td>dph_other - request_for_service</td>\n",
       "      <td>Intersection of TURK ST and JONES ST</td>\n",
       "      <td>6</td>\n",
       "      <td>Tenderloin</td>\n",
       "      <td>TENDERLOIN</td>\n",
       "    </tr>\n",
       "    <tr>\n",
       "      <th>1</th>\n",
       "      <td>13333606</td>\n",
       "      <td>2021-01-06</td>\n",
       "      <td>Mayors Office of Neighborhood Services - G</td>\n",
       "      <td>General Request - MONS</td>\n",
       "      <td>complaint</td>\n",
       "      <td>mons - complaint</td>\n",
       "      <td>Not associated with a specific address</td>\n",
       "      <td>NaN</td>\n",
       "      <td>NaN</td>\n",
       "      <td>NaN</td>\n",
       "    </tr>\n",
       "    <tr>\n",
       "      <th>2</th>\n",
       "      <td>13333604</td>\n",
       "      <td>2021-01-06</td>\n",
       "      <td>Parking Enforcement Dispatch Queue</td>\n",
       "      <td>Parking Enforcement</td>\n",
       "      <td>Parking_on_Sidewalk</td>\n",
       "      <td>Bronze - Lexus - N/a</td>\n",
       "      <td>176 LEE AVE, SAN FRANCISCO, CA, 94112</td>\n",
       "      <td>11</td>\n",
       "      <td>Ingleside</td>\n",
       "      <td>TARAVAL</td>\n",
       "    </tr>\n",
       "    <tr>\n",
       "      <th>3</th>\n",
       "      <td>13333603</td>\n",
       "      <td>2021-01-06</td>\n",
       "      <td>Parking Enforcement Dispatch Queue</td>\n",
       "      <td>Parking Enforcement</td>\n",
       "      <td>Parking_on_Sidewalk</td>\n",
       "      <td>Parking Enforcement</td>\n",
       "      <td>196 LEE AVE, SAN FRANCISCO, CA, 94112</td>\n",
       "      <td>11</td>\n",
       "      <td>Ingleside</td>\n",
       "      <td>TARAVAL</td>\n",
       "    </tr>\n",
       "    <tr>\n",
       "      <th>4</th>\n",
       "      <td>13333602</td>\n",
       "      <td>2021-01-06</td>\n",
       "      <td>Parking Enforcement Dispatch Queue</td>\n",
       "      <td>Parking Enforcement</td>\n",
       "      <td>Parking_on_Sidewalk</td>\n",
       "      <td>Parking Enforcement</td>\n",
       "      <td>229 LEE AVE, SAN FRANCISCO, CA, 94112</td>\n",
       "      <td>7</td>\n",
       "      <td>Ingleside</td>\n",
       "      <td>TARAVAL</td>\n",
       "    </tr>\n",
       "  </tbody>\n",
       "</table>\n",
       "</div>"
      ],
      "text/plain": [
       "  service_request_id       Date                          agency_responsible  \\\n",
       "0           13333616 2021-01-06                             DPH - Other - G   \n",
       "1           13333606 2021-01-06  Mayors Office of Neighborhood Services - G   \n",
       "2           13333604 2021-01-06          Parking Enforcement Dispatch Queue   \n",
       "3           13333603 2021-01-06          Parking Enforcement Dispatch Queue   \n",
       "4           13333602 2021-01-06          Parking Enforcement Dispatch Queue   \n",
       "\n",
       "             service_name      service_subtype  \\\n",
       "0   General Request - DPH  request_for_service   \n",
       "1  General Request - MONS            complaint   \n",
       "2     Parking Enforcement  Parking_on_Sidewalk   \n",
       "3     Parking Enforcement  Parking_on_Sidewalk   \n",
       "4     Parking Enforcement  Parking_on_Sidewalk   \n",
       "\n",
       "                   service_details                                 address  \\\n",
       "0  dph_other - request_for_service    Intersection of TURK ST and JONES ST   \n",
       "1                 mons - complaint  Not associated with a specific address   \n",
       "2             Bronze - Lexus - N/a   176 LEE AVE, SAN FRANCISCO, CA, 94112   \n",
       "3              Parking Enforcement   196 LEE AVE, SAN FRANCISCO, CA, 94112   \n",
       "4              Parking Enforcement   229 LEE AVE, SAN FRANCISCO, CA, 94112   \n",
       "\n",
       "  supervisor_district neighborhoods_sffind_boundaries police_district  \n",
       "0                   6                      Tenderloin      TENDERLOIN  \n",
       "1                 NaN                             NaN             NaN  \n",
       "2                  11                       Ingleside         TARAVAL  \n",
       "3                  11                       Ingleside         TARAVAL  \n",
       "4                   7                       Ingleside         TARAVAL  "
      ]
     },
     "execution_count": 67,
     "metadata": {},
     "output_type": "execute_result"
    }
   ],
   "source": [
    "df.head()"
   ]
  },
  {
   "cell_type": "code",
   "execution_count": null,
   "metadata": {},
   "outputs": [],
   "source": [
    "\n",
    "counter = Counter(df['agency_responsible'].tolist())\n",
    "top_agencies = {i[0]: idx for idx, i in enumerate(counter.most_common(10))}\n",
    "df = df[df['agency_responsible'].map(lambda x: x in top_agencies)]\n",
    "\n",
    "df.service_details = df.service_details.astype(str)\n",
    "\n",
    "description_list = df['service_details'].tolist()\n",
    "agency_list = [top_agencies[i] for i in df['agency_responsible'].tolist()]\n",
    "agency_list = np.array(agency_list)\n",
    "\n",
    "count_vect = CountVectorizer()\n",
    "x_train_counts = count_vect.fit_transform(description_list)\n",
    "\n",
    "\n",
    "tfidf_transformer = TfidfTransformer()\n",
    "x_train_tfidf = tfidf_transformer.fit_transform(x_train_counts)\n",
    "\n",
    "train_x, test_x, train_y, test_y = train_test_split(x_train_tfidf, agency_list, test_size=0.3)\n",
    "\n",
    "clf = SVC(kernel='linear').fit(train_x, train_y)\n",
    "y_score = clf.predict(test_x)\n",
    "\n",
    "n_right = 0\n",
    "for i in range(len(y_score)):\n",
    "    if y_score[i] == test_y[i]:\n",
    "        n_right += 1\n",
    "\n",
    "print(\"Accuracy: %.2f%%\" % ((n_right/float(len(test_y)) * 100)))"
   ]
  },
  {
   "cell_type": "code",
   "execution_count": null,
   "metadata": {},
   "outputs": [],
   "source": []
  },
  {
   "cell_type": "code",
   "execution_count": null,
   "metadata": {},
   "outputs": [],
   "source": []
  },
  {
   "cell_type": "code",
   "execution_count": null,
   "metadata": {},
   "outputs": [],
   "source": []
  },
  {
   "cell_type": "code",
   "execution_count": null,
   "metadata": {},
   "outputs": [],
   "source": []
  },
  {
   "cell_type": "code",
   "execution_count": null,
   "metadata": {},
   "outputs": [],
   "source": []
  },
  {
   "cell_type": "code",
   "execution_count": null,
   "metadata": {},
   "outputs": [],
   "source": []
  },
  {
   "cell_type": "code",
   "execution_count": null,
   "metadata": {},
   "outputs": [],
   "source": []
  },
  {
   "cell_type": "code",
   "execution_count": null,
   "metadata": {},
   "outputs": [],
   "source": []
  }
 ],
 "metadata": {
  "kernelspec": {
   "display_name": "Python 3",
   "language": "python",
   "name": "python3"
  },
  "language_info": {
   "codemirror_mode": {
    "name": "ipython",
    "version": 3
   },
   "file_extension": ".py",
   "mimetype": "text/x-python",
   "name": "python",
   "nbconvert_exporter": "python",
   "pygments_lexer": "ipython3",
   "version": "3.6.9"
  }
 },
 "nbformat": 4,
 "nbformat_minor": 4
}
