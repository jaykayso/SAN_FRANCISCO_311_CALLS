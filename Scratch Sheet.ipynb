version https://git-lfs.github.com/spec/v1
oid sha256:003264c4ec0eef3918cfcf4ef9bea4d782214a6a6f3b4ddb45d317dd80d4300c
size 1543131
