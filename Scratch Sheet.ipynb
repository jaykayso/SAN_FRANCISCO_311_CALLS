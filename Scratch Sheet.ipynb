version https://git-lfs.github.com/spec/v1
oid sha256:d55b42f8a9879412b241a5cff3b6ea9ce2b7f40fc7208ba7a4d96a643121c8b7
size 835825
