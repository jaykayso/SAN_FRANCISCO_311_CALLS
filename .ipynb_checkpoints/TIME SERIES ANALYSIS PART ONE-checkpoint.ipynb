{
 "cells": [
  {
   "cell_type": "markdown",
   "metadata": {},
   "source": [
    "# 311 San Francisco Call Analysis: Time Series Analysis"
   ]
  },
  {
   "cell_type": "markdown",
   "metadata": {},
   "source": [
    "### Strategic Approach"
   ]
  },
  {
   "cell_type": "markdown",
   "metadata": {},
   "source": [
    "The objective is to forecast the quantity of future calls to determine if there is a change in human resources needed in advance."
   ]
  },
  {
   "cell_type": "markdown",
   "metadata": {},
   "source": [
    "### Importation of Relevant Packages"
   ]
  },
  {
   "cell_type": "code",
   "execution_count": null,
   "metadata": {},
   "outputs": [],
   "source": [
    "import pandas as pd\n",
    "import numpy as np\n",
    "import matplotlib.pyplot as plt\n",
    "%matplotlib inline\n",
    "import matplotlib\n",
    "import xlrd\n",
    "from statsmodels.graphics.tsaplots import plot_pacf\n",
    "from statsmodels.graphics.tsaplots import plot_acf\n",
    "from pmdarima.arima import auto_arima\n",
    "from pmdarima.arima import ADFTest\n",
    "from sklearn.metrics import r2_score\n",
    "from pmdarima.arima import ndiffs\n",
    "from statsmodels.tsa.seasonal import seasonal_decompose\n",
    "from statsmodels.graphics.tsaplots import plot_acf, plot_pacf\n",
    "from pandas.plotting import autocorrelation_plot, lag_plot\n",
    "import warnings\n",
    "warnings.filterwarnings('ignore')\n",
    "import itertools\n",
    "import statsmodels.api as sm\n",
    "from matplotlib.pylab import rcParams\n",
    "plt.style.use('ggplot')\n",
    "from statsmodels.tsa.stattools import adfuller"
   ]
  },
  {
   "cell_type": "markdown",
   "metadata": {},
   "source": [
    "### For Ignoring Warnings"
   ]
  },
  {
   "cell_type": "code",
   "execution_count": 3,
   "metadata": {},
   "outputs": [],
   "source": [
    "#import warnings\n",
    "#warnings.filterwarnings(\"ignore\")"
   ]
  },
  {
   "cell_type": "markdown",
   "metadata": {},
   "source": [
    "### Import Pickled Dataframe"
   ]
  },
  {
   "cell_type": "code",
   "execution_count": 4,
   "metadata": {},
   "outputs": [],
   "source": [
    "df = pd.read_pickle(\"data/before_df.pkl\")"
   ]
  },
  {
   "cell_type": "markdown",
   "metadata": {},
   "source": [
    "### Observing the Dataframe"
   ]
  },
  {
   "cell_type": "code",
   "execution_count": 5,
   "metadata": {
    "scrolled": true
   },
   "outputs": [
    {
     "data": {
      "text/html": [
       "<div>\n",
       "<style scoped>\n",
       "    .dataframe tbody tr th:only-of-type {\n",
       "        vertical-align: middle;\n",
       "    }\n",
       "\n",
       "    .dataframe tbody tr th {\n",
       "        vertical-align: top;\n",
       "    }\n",
       "\n",
       "    .dataframe thead th {\n",
       "        text-align: right;\n",
       "    }\n",
       "</style>\n",
       "<table border=\"1\" class=\"dataframe\">\n",
       "  <thead>\n",
       "    <tr style=\"text-align: right;\">\n",
       "      <th></th>\n",
       "      <th>service_request_id</th>\n",
       "      <th>Date</th>\n",
       "      <th>agency_responsible</th>\n",
       "      <th>service_name</th>\n",
       "      <th>service_subtype</th>\n",
       "      <th>service_details</th>\n",
       "      <th>address</th>\n",
       "      <th>supervisor_district</th>\n",
       "      <th>neighborhoods_sffind_boundaries</th>\n",
       "      <th>police_district</th>\n",
       "    </tr>\n",
       "  </thead>\n",
       "  <tbody>\n",
       "    <tr>\n",
       "      <th>0</th>\n",
       "      <td>13333616</td>\n",
       "      <td>2021-01-06</td>\n",
       "      <td>DPH - Other - G</td>\n",
       "      <td>General Request - DPH</td>\n",
       "      <td>request_for_service</td>\n",
       "      <td>dph_other - request_for_service</td>\n",
       "      <td>Intersection of TURK ST and JONES ST</td>\n",
       "      <td>6</td>\n",
       "      <td>Tenderloin</td>\n",
       "      <td>TENDERLOIN</td>\n",
       "    </tr>\n",
       "    <tr>\n",
       "      <th>1</th>\n",
       "      <td>13333606</td>\n",
       "      <td>2021-01-06</td>\n",
       "      <td>Mayors Office of Neighborhood Services - G</td>\n",
       "      <td>General Request - MONS</td>\n",
       "      <td>complaint</td>\n",
       "      <td>mons - complaint</td>\n",
       "      <td>Not associated with a specific address</td>\n",
       "      <td>NaN</td>\n",
       "      <td>NaN</td>\n",
       "      <td>NaN</td>\n",
       "    </tr>\n",
       "    <tr>\n",
       "      <th>2</th>\n",
       "      <td>13333604</td>\n",
       "      <td>2021-01-06</td>\n",
       "      <td>Parking Enforcement Dispatch Queue</td>\n",
       "      <td>Parking Enforcement</td>\n",
       "      <td>Parking_on_Sidewalk</td>\n",
       "      <td>Bronze - Lexus - N/a</td>\n",
       "      <td>176 LEE AVE, SAN FRANCISCO, CA, 94112</td>\n",
       "      <td>11</td>\n",
       "      <td>Ingleside</td>\n",
       "      <td>TARAVAL</td>\n",
       "    </tr>\n",
       "    <tr>\n",
       "      <th>3</th>\n",
       "      <td>13333603</td>\n",
       "      <td>2021-01-06</td>\n",
       "      <td>Parking Enforcement Dispatch Queue</td>\n",
       "      <td>Parking Enforcement</td>\n",
       "      <td>Parking_on_Sidewalk</td>\n",
       "      <td>Parking Enforcement</td>\n",
       "      <td>196 LEE AVE, SAN FRANCISCO, CA, 94112</td>\n",
       "      <td>11</td>\n",
       "      <td>Ingleside</td>\n",
       "      <td>TARAVAL</td>\n",
       "    </tr>\n",
       "    <tr>\n",
       "      <th>4</th>\n",
       "      <td>13333602</td>\n",
       "      <td>2021-01-06</td>\n",
       "      <td>Parking Enforcement Dispatch Queue</td>\n",
       "      <td>Parking Enforcement</td>\n",
       "      <td>Parking_on_Sidewalk</td>\n",
       "      <td>Parking Enforcement</td>\n",
       "      <td>229 LEE AVE, SAN FRANCISCO, CA, 94112</td>\n",
       "      <td>7</td>\n",
       "      <td>Ingleside</td>\n",
       "      <td>TARAVAL</td>\n",
       "    </tr>\n",
       "  </tbody>\n",
       "</table>\n",
       "</div>"
      ],
      "text/plain": [
       "  service_request_id       Date                          agency_responsible  \\\n",
       "0           13333616 2021-01-06                             DPH - Other - G   \n",
       "1           13333606 2021-01-06  Mayors Office of Neighborhood Services - G   \n",
       "2           13333604 2021-01-06          Parking Enforcement Dispatch Queue   \n",
       "3           13333603 2021-01-06          Parking Enforcement Dispatch Queue   \n",
       "4           13333602 2021-01-06          Parking Enforcement Dispatch Queue   \n",
       "\n",
       "             service_name      service_subtype  \\\n",
       "0   General Request - DPH  request_for_service   \n",
       "1  General Request - MONS            complaint   \n",
       "2     Parking Enforcement  Parking_on_Sidewalk   \n",
       "3     Parking Enforcement  Parking_on_Sidewalk   \n",
       "4     Parking Enforcement  Parking_on_Sidewalk   \n",
       "\n",
       "                   service_details                                 address  \\\n",
       "0  dph_other - request_for_service    Intersection of TURK ST and JONES ST   \n",
       "1                 mons - complaint  Not associated with a specific address   \n",
       "2             Bronze - Lexus - N/a   176 LEE AVE, SAN FRANCISCO, CA, 94112   \n",
       "3              Parking Enforcement   196 LEE AVE, SAN FRANCISCO, CA, 94112   \n",
       "4              Parking Enforcement   229 LEE AVE, SAN FRANCISCO, CA, 94112   \n",
       "\n",
       "  supervisor_district neighborhoods_sffind_boundaries police_district  \n",
       "0                   6                      Tenderloin      TENDERLOIN  \n",
       "1                 NaN                             NaN             NaN  \n",
       "2                  11                       Ingleside         TARAVAL  \n",
       "3                  11                       Ingleside         TARAVAL  \n",
       "4                   7                       Ingleside         TARAVAL  "
      ]
     },
     "execution_count": 5,
     "metadata": {},
     "output_type": "execute_result"
    }
   ],
   "source": [
    "df.head()"
   ]
  },
  {
   "cell_type": "markdown",
   "metadata": {},
   "source": [
    "### Checking Dataframe Size"
   ]
  },
  {
   "cell_type": "code",
   "execution_count": 6,
   "metadata": {},
   "outputs": [
    {
     "data": {
      "text/plain": [
       "24193480"
      ]
     },
     "execution_count": 6,
     "metadata": {},
     "output_type": "execute_result"
    }
   ],
   "source": [
    "df.size"
   ]
  },
  {
   "cell_type": "markdown",
   "metadata": {},
   "source": [
    "### Checking for NaN Values"
   ]
  },
  {
   "cell_type": "code",
   "execution_count": 7,
   "metadata": {},
   "outputs": [
    {
     "data": {
      "text/plain": [
       "service_request_id                     0\n",
       "Date                                   0\n",
       "agency_responsible                     0\n",
       "service_name                           0\n",
       "service_subtype                        0\n",
       "service_details                     1779\n",
       "address                                1\n",
       "supervisor_district                87577\n",
       "neighborhoods_sffind_boundaries    88880\n",
       "police_district                    89937\n",
       "dtype: int64"
      ]
     },
     "execution_count": 7,
     "metadata": {},
     "output_type": "execute_result"
    }
   ],
   "source": [
    "df.isna().sum()"
   ]
  },
  {
   "cell_type": "markdown",
   "metadata": {},
   "source": [
    "### Dropping NaN Values - VARIABLE"
   ]
  },
  {
   "cell_type": "code",
   "execution_count": 8,
   "metadata": {},
   "outputs": [],
   "source": [
    "df.dropna(inplace = True)"
   ]
  },
  {
   "cell_type": "markdown",
   "metadata": {},
   "source": [
    "### NaN Values Removed"
   ]
  },
  {
   "cell_type": "code",
   "execution_count": 9,
   "metadata": {},
   "outputs": [
    {
     "data": {
      "text/plain": [
       "service_request_id                 0\n",
       "Date                               0\n",
       "agency_responsible                 0\n",
       "service_name                       0\n",
       "service_subtype                    0\n",
       "service_details                    0\n",
       "address                            0\n",
       "supervisor_district                0\n",
       "neighborhoods_sffind_boundaries    0\n",
       "police_district                    0\n",
       "dtype: int64"
      ]
     },
     "execution_count": 9,
     "metadata": {},
     "output_type": "execute_result"
    }
   ],
   "source": [
    "df.isna().sum()"
   ]
  },
  {
   "cell_type": "markdown",
   "metadata": {},
   "source": [
    "### Observing Agencies"
   ]
  },
  {
   "cell_type": "code",
   "execution_count": 10,
   "metadata": {},
   "outputs": [
    {
     "data": {
      "text/plain": [
       "DPW Ops Queue                         865189\n",
       "Recology_Abandoned                    409184\n",
       "Parking Enforcement Dispatch Queue    154040\n",
       "DPT Abandoned Vehicles Work Queue      97109\n",
       "HSOC Queue                             74577\n",
       "                                       ...  \n",
       "Office of Small Business                   1\n",
       "DPT - Traffic Signal - G - Hold            1\n",
       "HSH - Shelter Waitlist Queue               1\n",
       "311 SSP Inbound QA Queue                   1\n",
       "DPT - Color Curb - G - Hold                1\n",
       "Name: agency_responsible, Length: 297, dtype: int64"
      ]
     },
     "execution_count": 10,
     "metadata": {},
     "output_type": "execute_result"
    }
   ],
   "source": [
    "df.agency_responsible.value_counts()"
   ]
  },
  {
   "cell_type": "markdown",
   "metadata": {},
   "source": [
    "### Observing Service Details"
   ]
  },
  {
   "cell_type": "code",
   "execution_count": 11,
   "metadata": {
    "scrolled": true
   },
   "outputs": [
    {
     "data": {
      "text/plain": [
       "Other Loose Garbage                                   298796\n",
       "Encampment Cleanup                                    213533\n",
       "Boxed or Bagged Items                                 139306\n",
       "Furniture                                             129897\n",
       "Human or Animal Waste                                 108789\n",
       "                                                       ...  \n",
       "40 ft zone requested from 10/16/2018 to 10/23/2018         1\n",
       "Dark Grey - Toyota Rav 4 - 7LRD902                         1\n",
       "red - 1000DL - Ducati - 18Z8769                            1\n",
       "Red - Honda fit - 751LJR - Nevada plates                   1\n",
       "Green - Subaru Outback - iqogum                            1\n",
       "Name: service_details, Length: 167705, dtype: int64"
      ]
     },
     "execution_count": 11,
     "metadata": {},
     "output_type": "execute_result"
    }
   ],
   "source": [
    "df.service_details.value_counts()"
   ]
  },
  {
   "cell_type": "code",
   "execution_count": null,
   "metadata": {},
   "outputs": [],
   "source": []
  },
  {
   "cell_type": "code",
   "execution_count": null,
   "metadata": {},
   "outputs": [],
   "source": []
  },
  {
   "cell_type": "code",
   "execution_count": null,
   "metadata": {},
   "outputs": [],
   "source": []
  },
  {
   "cell_type": "code",
   "execution_count": null,
   "metadata": {},
   "outputs": [],
   "source": []
  }
 ],
 "metadata": {
  "kernelspec": {
   "display_name": "Python 3",
   "language": "python",
   "name": "python3"
  },
  "language_info": {
   "codemirror_mode": {
    "name": "ipython",
    "version": 3
   },
   "file_extension": ".py",
   "mimetype": "text/x-python",
   "name": "python",
   "nbconvert_exporter": "python",
   "pygments_lexer": "ipython3",
   "version": "3.6.9"
  }
 },
 "nbformat": 4,
 "nbformat_minor": 4
}
