version https://git-lfs.github.com/spec/v1
oid sha256:dfd03faaf5ba02e0381623fd5744973ec72fdc7f97310e341a24ead329a286e4
size 110213325
