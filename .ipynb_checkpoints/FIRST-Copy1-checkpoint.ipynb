{
 "cells": [
  {
   "cell_type": "markdown",
   "metadata": {},
   "source": [
    "# 311 San Francisco Call Analysis"
   ]
  },
  {
   "cell_type": "markdown",
   "metadata": {},
   "source": [
    "### Importation of Relevant Packages"
   ]
  },
  {
   "cell_type": "code",
   "execution_count": 206,
   "metadata": {},
   "outputs": [],
   "source": [
    "from datetime import datetime\n",
    "from sodapy import Socrata\n",
    "import pandas as pd\n",
    "import numpy as np\n",
    "import requests"
   ]
  },
  {
   "cell_type": "markdown",
   "metadata": {},
   "source": [
    "### For Ignoring Warnings"
   ]
  },
  {
   "cell_type": "code",
   "execution_count": null,
   "metadata": {},
   "outputs": [],
   "source": [
    "import warnings\n",
    "warnings.filterwarnings(\"ignore\")"
   ]
  },
  {
   "cell_type": "markdown",
   "metadata": {},
   "source": [
    "### Importing the Dataset"
   ]
  },
  {
   "cell_type": "code",
   "execution_count": 75,
   "metadata": {},
   "outputs": [],
   "source": [
    "# Unauthenticated client only works with public data sets. Note 'None'\n",
    "# in place of application token, and no username or password:\n",
    "client = Socrata(\"data.sfgov.org\", app_token = 'bjDfNExr5LU9luJGfKY2JYVmP', username=\"solerjaklyn@gmail.com\", password=\"sanfrancity311!\")\n",
    "\n",
    "# Example authenticated client (needed for non-public datasets):\n",
    "# client = Socrata(data.sfgov.org,\n",
    "#                  MyAppToken,\n",
    "#                  userame=\"user@example.com\",\n",
    "#                  password=\"AFakePassword\")\n",
    "\n",
    "# First 2000 results, returned as JSON from API / converted to Python list of\n",
    "# dictionaries by sodapy.\n",
    "\n",
    "results = client.get(\"vw6y-z8j6\", limit=4597670) #what does this dataset identifier correlate to\n",
    "\n",
    "# Convert to pandas DataFrame\n",
    "results_df = pd.DataFrame.from_records(results)"
   ]
  },
  {
   "cell_type": "code",
   "execution_count": 76,
   "metadata": {
    "scrolled": true
   },
   "outputs": [
    {
     "data": {
      "text/plain": [
       "216090490"
      ]
     },
     "execution_count": 76,
     "metadata": {},
     "output_type": "execute_result"
    }
   ],
   "source": [
    "results_df.size"
   ]
  },
  {
   "cell_type": "code",
   "execution_count": 77,
   "metadata": {
    "scrolled": true
   },
   "outputs": [
    {
     "data": {
      "text/html": [
       "<div>\n",
       "<style scoped>\n",
       "    .dataframe tbody tr th:only-of-type {\n",
       "        vertical-align: middle;\n",
       "    }\n",
       "\n",
       "    .dataframe tbody tr th {\n",
       "        vertical-align: top;\n",
       "    }\n",
       "\n",
       "    .dataframe thead th {\n",
       "        text-align: right;\n",
       "    }\n",
       "</style>\n",
       "<table border=\"1\" class=\"dataframe\">\n",
       "  <thead>\n",
       "    <tr style=\"text-align: right;\">\n",
       "      <th></th>\n",
       "      <th>service_request_id</th>\n",
       "      <th>requested_datetime</th>\n",
       "      <th>updated_datetime</th>\n",
       "      <th>status_description</th>\n",
       "      <th>agency_responsible</th>\n",
       "      <th>service_name</th>\n",
       "      <th>service_subtype</th>\n",
       "      <th>service_details</th>\n",
       "      <th>address</th>\n",
       "      <th>lat</th>\n",
       "      <th>...</th>\n",
       "      <th>:@computed_region_9dfj_4gjx</th>\n",
       "      <th>:@computed_region_n4xg_c4py</th>\n",
       "      <th>:@computed_region_4isq_27mq</th>\n",
       "      <th>:@computed_region_pigm_ib2e</th>\n",
       "      <th>:@computed_region_6ezc_tdp2</th>\n",
       "      <th>:@computed_region_h4ep_8xdi</th>\n",
       "      <th>:@computed_region_viu7_rrfi</th>\n",
       "      <th>:@computed_region_2dwj_jsy4</th>\n",
       "      <th>closed_date</th>\n",
       "      <th>:@computed_region_y6ts_4iup</th>\n",
       "    </tr>\n",
       "  </thead>\n",
       "  <tbody>\n",
       "    <tr>\n",
       "      <th>4597665</th>\n",
       "      <td>240222</td>\n",
       "      <td>2008-07-01T03:03:08.000</td>\n",
       "      <td>2008-07-01T06:10:23.000</td>\n",
       "      <td>Closed</td>\n",
       "      <td>DPW Ops Queue</td>\n",
       "      <td>Street and Sidewalk Cleaning</td>\n",
       "      <td>General Cleaning</td>\n",
       "      <td>Other Loose Garbage</td>\n",
       "      <td>Intersection of BROOK ST and MISSION ST</td>\n",
       "      <td>37.740642547607</td>\n",
       "      <td>...</td>\n",
       "      <td>NaN</td>\n",
       "      <td>NaN</td>\n",
       "      <td>NaN</td>\n",
       "      <td>NaN</td>\n",
       "      <td>NaN</td>\n",
       "      <td>NaN</td>\n",
       "      <td>NaN</td>\n",
       "      <td>NaN</td>\n",
       "      <td>2008-07-01T06:10:23.000</td>\n",
       "      <td>NaN</td>\n",
       "    </tr>\n",
       "    <tr>\n",
       "      <th>4597666</th>\n",
       "      <td>240221</td>\n",
       "      <td>2008-07-01T02:07:11.000</td>\n",
       "      <td>2008-07-08T10:03:41.000</td>\n",
       "      <td>Closed</td>\n",
       "      <td>DPT Abandoned Vehicles Work Queue</td>\n",
       "      <td>Abandoned Vehicle</td>\n",
       "      <td>Abandoned Vehicle - Car4door</td>\n",
       "      <td>DARK BLUE - FORD - CROWN VICTORIA  - 3WBG858</td>\n",
       "      <td>1271 EDDY ST, SAN FRANCISCO, CA, 94115</td>\n",
       "      <td>37.781799316406</td>\n",
       "      <td>...</td>\n",
       "      <td>NaN</td>\n",
       "      <td>NaN</td>\n",
       "      <td>NaN</td>\n",
       "      <td>NaN</td>\n",
       "      <td>NaN</td>\n",
       "      <td>NaN</td>\n",
       "      <td>NaN</td>\n",
       "      <td>NaN</td>\n",
       "      <td>2008-07-08T10:03:41.000</td>\n",
       "      <td>NaN</td>\n",
       "    </tr>\n",
       "    <tr>\n",
       "      <th>4597667</th>\n",
       "      <td>240220</td>\n",
       "      <td>2008-07-01T01:56:58.000</td>\n",
       "      <td>2008-07-01T06:10:23.000</td>\n",
       "      <td>Closed</td>\n",
       "      <td>DPW Ops Queue</td>\n",
       "      <td>Tree Maintenance</td>\n",
       "      <td>Trees - Damaged_Tree</td>\n",
       "      <td>Hanging_limb</td>\n",
       "      <td>Intersection of 2ND AVE and IRVING ST</td>\n",
       "      <td>37.764366149902</td>\n",
       "      <td>...</td>\n",
       "      <td>NaN</td>\n",
       "      <td>NaN</td>\n",
       "      <td>NaN</td>\n",
       "      <td>NaN</td>\n",
       "      <td>NaN</td>\n",
       "      <td>NaN</td>\n",
       "      <td>NaN</td>\n",
       "      <td>NaN</td>\n",
       "      <td>2008-07-01T06:10:23.000</td>\n",
       "      <td>NaN</td>\n",
       "    </tr>\n",
       "    <tr>\n",
       "      <th>4597668</th>\n",
       "      <td>240216</td>\n",
       "      <td>2008-07-01T00:26:34.000</td>\n",
       "      <td>2008-07-01T06:10:23.000</td>\n",
       "      <td>Closed</td>\n",
       "      <td>DPW Ops Queue</td>\n",
       "      <td>Street and Sidewalk Cleaning</td>\n",
       "      <td>Bulky Items</td>\n",
       "      <td>Mattress</td>\n",
       "      <td>Intersection of 18TH AVE and JUDAH ST</td>\n",
       "      <td>37.761745452881</td>\n",
       "      <td>...</td>\n",
       "      <td>NaN</td>\n",
       "      <td>NaN</td>\n",
       "      <td>NaN</td>\n",
       "      <td>NaN</td>\n",
       "      <td>NaN</td>\n",
       "      <td>NaN</td>\n",
       "      <td>NaN</td>\n",
       "      <td>NaN</td>\n",
       "      <td>2008-07-01T06:10:23.000</td>\n",
       "      <td>NaN</td>\n",
       "    </tr>\n",
       "    <tr>\n",
       "      <th>4597669</th>\n",
       "      <td>240215</td>\n",
       "      <td>2008-07-01T00:13:13.000</td>\n",
       "      <td>2008-07-02T16:05:13.000</td>\n",
       "      <td>Closed</td>\n",
       "      <td>DPW Ops Queue</td>\n",
       "      <td>Street and Sidewalk Cleaning</td>\n",
       "      <td>General Cleaning</td>\n",
       "      <td>Other Loose Garbage</td>\n",
       "      <td>408 UNION ST, SAN FRANCISCO, CA, 94133</td>\n",
       "      <td>37.800987243652</td>\n",
       "      <td>...</td>\n",
       "      <td>21</td>\n",
       "      <td>NaN</td>\n",
       "      <td>23</td>\n",
       "      <td>23</td>\n",
       "      <td>NaN</td>\n",
       "      <td>NaN</td>\n",
       "      <td>NaN</td>\n",
       "      <td>NaN</td>\n",
       "      <td>2008-07-02T16:05:13.000</td>\n",
       "      <td>NaN</td>\n",
       "    </tr>\n",
       "  </tbody>\n",
       "</table>\n",
       "<p>5 rows × 47 columns</p>\n",
       "</div>"
      ],
      "text/plain": [
       "        service_request_id       requested_datetime         updated_datetime  \\\n",
       "4597665             240222  2008-07-01T03:03:08.000  2008-07-01T06:10:23.000   \n",
       "4597666             240221  2008-07-01T02:07:11.000  2008-07-08T10:03:41.000   \n",
       "4597667             240220  2008-07-01T01:56:58.000  2008-07-01T06:10:23.000   \n",
       "4597668             240216  2008-07-01T00:26:34.000  2008-07-01T06:10:23.000   \n",
       "4597669             240215  2008-07-01T00:13:13.000  2008-07-02T16:05:13.000   \n",
       "\n",
       "        status_description                 agency_responsible  \\\n",
       "4597665             Closed                      DPW Ops Queue   \n",
       "4597666             Closed  DPT Abandoned Vehicles Work Queue   \n",
       "4597667             Closed                      DPW Ops Queue   \n",
       "4597668             Closed                      DPW Ops Queue   \n",
       "4597669             Closed                      DPW Ops Queue   \n",
       "\n",
       "                         service_name               service_subtype  \\\n",
       "4597665  Street and Sidewalk Cleaning              General Cleaning   \n",
       "4597666             Abandoned Vehicle  Abandoned Vehicle - Car4door   \n",
       "4597667              Tree Maintenance          Trees - Damaged_Tree   \n",
       "4597668  Street and Sidewalk Cleaning                   Bulky Items   \n",
       "4597669  Street and Sidewalk Cleaning              General Cleaning   \n",
       "\n",
       "                                      service_details  \\\n",
       "4597665                           Other Loose Garbage   \n",
       "4597666  DARK BLUE - FORD - CROWN VICTORIA  - 3WBG858   \n",
       "4597667                                  Hanging_limb   \n",
       "4597668                                      Mattress   \n",
       "4597669                           Other Loose Garbage   \n",
       "\n",
       "                                         address              lat  ...  \\\n",
       "4597665  Intersection of BROOK ST and MISSION ST  37.740642547607  ...   \n",
       "4597666   1271 EDDY ST, SAN FRANCISCO, CA, 94115  37.781799316406  ...   \n",
       "4597667    Intersection of 2ND AVE and IRVING ST  37.764366149902  ...   \n",
       "4597668    Intersection of 18TH AVE and JUDAH ST  37.761745452881  ...   \n",
       "4597669   408 UNION ST, SAN FRANCISCO, CA, 94133  37.800987243652  ...   \n",
       "\n",
       "        :@computed_region_9dfj_4gjx :@computed_region_n4xg_c4py  \\\n",
       "4597665                         NaN                         NaN   \n",
       "4597666                         NaN                         NaN   \n",
       "4597667                         NaN                         NaN   \n",
       "4597668                         NaN                         NaN   \n",
       "4597669                          21                         NaN   \n",
       "\n",
       "        :@computed_region_4isq_27mq :@computed_region_pigm_ib2e  \\\n",
       "4597665                         NaN                         NaN   \n",
       "4597666                         NaN                         NaN   \n",
       "4597667                         NaN                         NaN   \n",
       "4597668                         NaN                         NaN   \n",
       "4597669                          23                          23   \n",
       "\n",
       "        :@computed_region_6ezc_tdp2 :@computed_region_h4ep_8xdi  \\\n",
       "4597665                         NaN                         NaN   \n",
       "4597666                         NaN                         NaN   \n",
       "4597667                         NaN                         NaN   \n",
       "4597668                         NaN                         NaN   \n",
       "4597669                         NaN                         NaN   \n",
       "\n",
       "        :@computed_region_viu7_rrfi :@computed_region_2dwj_jsy4  \\\n",
       "4597665                         NaN                         NaN   \n",
       "4597666                         NaN                         NaN   \n",
       "4597667                         NaN                         NaN   \n",
       "4597668                         NaN                         NaN   \n",
       "4597669                         NaN                         NaN   \n",
       "\n",
       "                     closed_date :@computed_region_y6ts_4iup  \n",
       "4597665  2008-07-01T06:10:23.000                         NaN  \n",
       "4597666  2008-07-08T10:03:41.000                         NaN  \n",
       "4597667  2008-07-01T06:10:23.000                         NaN  \n",
       "4597668  2008-07-01T06:10:23.000                         NaN  \n",
       "4597669  2008-07-02T16:05:13.000                         NaN  \n",
       "\n",
       "[5 rows x 47 columns]"
      ]
     },
     "execution_count": 77,
     "metadata": {},
     "output_type": "execute_result"
    }
   ],
   "source": [
    "results_df.tail()"
   ]
  },
  {
   "cell_type": "code",
   "execution_count": 4,
   "metadata": {},
   "outputs": [],
   "source": [
    "%load_ext memory_profiler"
   ]
  },
  {
   "cell_type": "code",
   "execution_count": 5,
   "metadata": {},
   "outputs": [
    {
     "name": "stdout",
     "output_type": "stream",
     "text": [
      "peak memory: 37.86 MiB, increment: -0.16 MiB\n"
     ]
    }
   ],
   "source": [
    "%memit"
   ]
  },
  {
   "cell_type": "code",
   "execution_count": null,
   "metadata": {},
   "outputs": [],
   "source": [
    "results_df.head()"
   ]
  },
  {
   "cell_type": "markdown",
   "metadata": {},
   "source": [
    "### Viewing Columns"
   ]
  },
  {
   "cell_type": "code",
   "execution_count": 1,
   "metadata": {},
   "outputs": [
    {
     "ename": "NameError",
     "evalue": "name 'results_df' is not defined",
     "output_type": "error",
     "traceback": [
      "\u001b[0;31m---------------------------------------------------------------------------\u001b[0m",
      "\u001b[0;31mNameError\u001b[0m                                 Traceback (most recent call last)",
      "\u001b[0;32m<ipython-input-1-9c4fc8445d06>\u001b[0m in \u001b[0;36m<module>\u001b[0;34m()\u001b[0m\n\u001b[0;32m----> 1\u001b[0;31m \u001b[0mresults_df\u001b[0m\u001b[0;34m.\u001b[0m\u001b[0mcolumns\u001b[0m\u001b[0;34m\u001b[0m\u001b[0;34m\u001b[0m\u001b[0m\n\u001b[0m",
      "\u001b[0;31mNameError\u001b[0m: name 'results_df' is not defined"
     ]
    }
   ],
   "source": [
    "results_df.columns"
   ]
  },
  {
   "cell_type": "markdown",
   "metadata": {},
   "source": [
    "### Viewing NaN Values"
   ]
  },
  {
   "cell_type": "code",
   "execution_count": null,
   "metadata": {},
   "outputs": [],
   "source": [
    "results_df.isna().sum()"
   ]
  },
  {
   "cell_type": "markdown",
   "metadata": {},
   "source": [
    "### New Column for Time Information"
   ]
  },
  {
   "cell_type": "code",
   "execution_count": null,
   "metadata": {},
   "outputs": [],
   "source": [
    "For now, all that is needed is the date of the request."
   ]
  },
  {
   "cell_type": "code",
   "execution_count": null,
   "metadata": {},
   "outputs": [],
   "source": [
    "results_df['Date'] = results_df.requested_datetime.str[0:10]"
   ]
  },
  {
   "cell_type": "markdown",
   "metadata": {},
   "source": [
    "### Checking for New Date Column"
   ]
  },
  {
   "cell_type": "code",
   "execution_count": null,
   "metadata": {},
   "outputs": [],
   "source": [
    "results_df['Date'][0]"
   ]
  },
  {
   "cell_type": "markdown",
   "metadata": {},
   "source": [
    "### Keeping Essential Columns Only"
   ]
  },
  {
   "cell_type": "code",
   "execution_count": null,
   "metadata": {},
   "outputs": [],
   "source": [
    "results_df.columns"
   ]
  },
  {
   "cell_type": "code",
   "execution_count": null,
   "metadata": {},
   "outputs": [],
   "source": [
    "results_df.police_district"
   ]
  },
  {
   "cell_type": "code",
   "execution_count": null,
   "metadata": {},
   "outputs": [],
   "source": [
    "time_df = results_df[['service_request_id','Date','agency_responsible','service_name', 'service_subtype', 'service_details', 'address', 'supervisor_district', 'neighborhoods_sffind_boundaries', 'police_district']]"
   ]
  },
  {
   "cell_type": "code",
   "execution_count": null,
   "metadata": {},
   "outputs": [],
   "source": [
    "time_df.head()"
   ]
  },
  {
   "cell_type": "code",
   "execution_count": null,
   "metadata": {},
   "outputs": [],
   "source": [
    "time_stamp = pd.to_datetime(date_string)\n",
    "date_time = time_stamp.date()"
   ]
  },
  {
   "cell_type": "code",
   "execution_count": null,
   "metadata": {},
   "outputs": [],
   "source": [
    "time_df.Date = pd.to_datetime(time_df.Date)\n"
   ]
  },
  {
   "cell_type": "markdown",
   "metadata": {},
   "source": [
    "### Checking Out Data Types"
   ]
  },
  {
   "cell_type": "code",
   "execution_count": null,
   "metadata": {},
   "outputs": [],
   "source": [
    "time_df.info()"
   ]
  },
  {
   "cell_type": "markdown",
   "metadata": {},
   "source": [
    "### Observing Size of Data"
   ]
  },
  {
   "cell_type": "code",
   "execution_count": null,
   "metadata": {},
   "outputs": [],
   "source": [
    "time_df.size"
   ]
  },
  {
   "cell_type": "markdown",
   "metadata": {},
   "source": [
    "### Removing Data Before 2015"
   ]
  },
  {
   "cell_type": "code",
   "execution_count": null,
   "metadata": {},
   "outputs": [],
   "source": [
    "before_df = time_df[time_df['Date'] > '2015-01-01']"
   ]
  },
  {
   "cell_type": "markdown",
   "metadata": {},
   "source": [
    "### Checking Date Data"
   ]
  },
  {
   "cell_type": "code",
   "execution_count": null,
   "metadata": {},
   "outputs": [],
   "source": [
    "before_df.tail()"
   ]
  },
  {
   "cell_type": "code",
   "execution_count": 6,
   "metadata": {},
   "outputs": [
    {
     "name": "stdout",
     "output_type": "stream",
     "text": [
      "peak memory: 37.89 MiB, increment: 0.02 MiB\n"
     ]
    }
   ],
   "source": [
    "### Checking Dataframe Size"
   ]
  },
  {
   "cell_type": "code",
   "execution_count": null,
   "metadata": {},
   "outputs": [],
   "source": [
    "before_df.size"
   ]
  },
  {
   "cell_type": "code",
   "execution_count": null,
   "metadata": {},
   "outputs": [],
   "source": [
    "### Viewing NaN Values Again"
   ]
  },
  {
   "cell_type": "code",
   "execution_count": null,
   "metadata": {},
   "outputs": [],
   "source": [
    "before_df.isna().sum()"
   ]
  },
  {
   "cell_type": "code",
   "execution_count": null,
   "metadata": {},
   "outputs": [],
   "source": [
    "### Stop Truncating Data"
   ]
  },
  {
   "cell_type": "code",
   "execution_count": null,
   "metadata": {},
   "outputs": [],
   "source": [
    "pd.set_option('display.max_columns', None) #prevents trailing elipses\n",
    "pd.set_option('display.max_rows', None)"
   ]
  },
  {
   "cell_type": "code",
   "execution_count": null,
   "metadata": {},
   "outputs": [],
   "source": [
    "### Observing Types of Main Service Requests"
   ]
  },
  {
   "cell_type": "code",
   "execution_count": null,
   "metadata": {},
   "outputs": [],
   "source": [
    "before_df.service_name.value_counts()"
   ]
  },
  {
   "cell_type": "code",
   "execution_count": null,
   "metadata": {},
   "outputs": [],
   "source": [
    "### Description of Various Relevant Topics"
   ]
  },
  {
   "cell_type": "code",
   "execution_count": null,
   "metadata": {},
   "outputs": [],
   "source": [
    "you could go ahead and look through the first 30 of these and figure out what you want to do as far as those. \n"
   ]
  },
  {
   "cell_type": "code",
   "execution_count": 7,
   "metadata": {},
   "outputs": [
    {
     "name": "stdout",
     "output_type": "stream",
     "text": [
      "peak memory: 37.90 MiB, increment: 0.01 MiB\n"
     ]
    }
   ],
   "source": [
    "%memit"
   ]
  },
  {
   "cell_type": "code",
   "execution_count": null,
   "metadata": {},
   "outputs": [],
   "source": []
  },
  {
   "cell_type": "code",
   "execution_count": null,
   "metadata": {},
   "outputs": [],
   "source": []
  },
  {
   "cell_type": "code",
   "execution_count": null,
   "metadata": {},
   "outputs": [],
   "source": []
  }
 ],
 "metadata": {
  "kernelspec": {
   "display_name": "Python 3",
   "language": "python",
   "name": "python3"
  },
  "language_info": {
   "codemirror_mode": {
    "name": "ipython",
    "version": 3
   },
   "file_extension": ".py",
   "mimetype": "text/x-python",
   "name": "python",
   "nbconvert_exporter": "python",
   "pygments_lexer": "ipython3",
   "version": "3.6.9"
  }
 },
 "nbformat": 4,
 "nbformat_minor": 4
}
